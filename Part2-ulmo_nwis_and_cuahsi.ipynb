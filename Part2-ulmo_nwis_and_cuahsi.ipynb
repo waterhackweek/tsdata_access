{
 "cells": [
  {
   "cell_type": "markdown",
   "metadata": {},
   "source": [
    "# Use Case 2 - Part 1: Using ulmo to explore USGS NWIS and CUAHSI HIS Data"
   ]
  },
  {
   "cell_type": "markdown",
   "metadata": {},
   "source": [
    "- [Emilio Mayorga](https://github.com/emiliom), University of Washington\n",
    "- [WaterHackWeek](https://waterhackweek.github.io/) Cyberseminar\n",
    "- 2019-2-7"
   ]
  },
  {
   "cell_type": "code",
   "execution_count": 1,
   "metadata": {},
   "outputs": [],
   "source": [
    "%matplotlib inline\n",
    "\n",
    "import pytz\n",
    "import requests\n",
    "import matplotlib.pyplot as plt\n",
    "import pandas as pd\n",
    "import folium\n",
    "\n",
    "import ulmo\n",
    "from ulmo.util import convert_datetime"
   ]
  },
  {
   "cell_type": "markdown",
   "metadata": {},
   "source": [
    "# Request and explore NWIS sites in a HUC8 subbasin"
   ]
  },
  {
   "cell_type": "markdown",
   "metadata": {},
   "source": [
    "Upper Little Tennessee HUC8 Subbasin 06010202. See [an interactive map on our GitHub repository.](https://github.com/waterhackweek/tsdata_access/blob/master/UpperLittleTennessee_HUC-8Subbasin_ID06010202.geojson)"
   ]
  },
  {
   "cell_type": "code",
   "execution_count": 2,
   "metadata": {},
   "outputs": [],
   "source": [
    "HUC8code = '06010202'"
   ]
  },
  {
   "cell_type": "markdown",
   "metadata": {},
   "source": [
    "## Issue the `ulmo nwis.get_sites` request, then cleanup and examine the results"
   ]
  },
  {
   "cell_type": "code",
   "execution_count": 3,
   "metadata": {
    "collapsed": false
   },
   "outputs": [
    {
     "name": "stderr",
     "output_type": "stream",
     "text": [
      "making request for sites: http://waterservices.usgs.gov/nwis/dv/\n",
      "processing data from request: https://waterservices.usgs.gov/nwis/dv/?format=waterml&hucs=06010202\n",
      "making request for sites: http://waterservices.usgs.gov/nwis/iv/\n",
      "processing data from request: https://waterservices.usgs.gov/nwis/iv/?format=waterml&hucs=06010202\n"
     ]
    }
   ],
   "source": [
    "nwis_sites = ulmo.usgs.nwis.get_sites(huc=HUC8code, service=None)"
   ]
  },
  {
   "cell_type": "markdown",
   "metadata": {},
   "source": [
    "What does the response look like?"
   ]
  },
  {
   "cell_type": "code",
   "execution_count": 4,
   "metadata": {
    "collapsed": false
   },
   "outputs": [
    {
     "data": {
      "text/plain": [
       "(dict, 20)"
      ]
     },
     "execution_count": 4,
     "metadata": {},
     "output_type": "execute_result"
    }
   ],
   "source": [
    "type(nwis_sites), len(nwis_sites)"
   ]
  },
  {
   "cell_type": "code",
   "execution_count": 5,
   "metadata": {
    "collapsed": false
   },
   "outputs": [
    {
     "data": {
      "text/plain": [
       "dict_keys(['03500000', '03500240', '03500500', '0350056050', '03501000', '03501500', '03501975', '03502500', '03503000', '03503500', '03504000', '03505500', '03505550', '03506500', '03507000', '03513500', '03514000', '350413083130045', '350557083325845', '351205083213545'])"
      ]
     },
     "execution_count": 5,
     "metadata": {},
     "output_type": "execute_result"
    }
   ],
   "source": [
    "nwis_sites.keys()"
   ]
  },
  {
   "cell_type": "markdown",
   "metadata": {},
   "source": [
    "It's a Python dictionary of sites. Let's examine one of the sites."
   ]
  },
  {
   "cell_type": "code",
   "execution_count": 6,
   "metadata": {},
   "outputs": [],
   "source": [
    "site_code = '03501500'"
   ]
  },
  {
   "cell_type": "code",
   "execution_count": 7,
   "metadata": {
    "collapsed": false
   },
   "outputs": [
    {
     "data": {
      "text/plain": [
       "{'code': '03501500',\n",
       " 'name': 'LITTLE TENNESSEE R AT FRANKLIN, NC',\n",
       " 'network': 'NWIS',\n",
       " 'agency': 'USGS',\n",
       " 'location': {'latitude': '35.18592846',\n",
       "  'longitude': '-83.3712647',\n",
       "  'srs': 'EPSG:4326'},\n",
       " 'timezone_info': {'uses_dst': True,\n",
       "  'dst_tz': {'abbreviation': 'EDT', 'offset': '-04:00'},\n",
       "  'default_tz': {'abbreviation': 'EST', 'offset': '-05:00'}},\n",
       " 'county': '37113',\n",
       " 'huc': '06010202',\n",
       " 'site_type': 'ST',\n",
       " 'state_code': '37'}"
      ]
     },
     "execution_count": 7,
     "metadata": {},
     "output_type": "execute_result"
    }
   ],
   "source": [
    "nwis_sites[site_code]"
   ]
  },
  {
   "cell_type": "markdown",
   "metadata": {},
   "source": [
    "One thing it doesn't tell us is what parameters are measured at the site. Too bad."
   ]
  },
  {
   "cell_type": "code",
   "execution_count": 8,
   "metadata": {},
   "outputs": [],
   "source": [
    "# pull out lat & lon from the nested dictionary\n",
    "for k, v in nwis_sites.items():\n",
    "    v['longitude'] = v['location']['longitude']\n",
    "    v['latitude'] = v['location']['latitude']"
   ]
  },
  {
   "cell_type": "code",
   "execution_count": 9,
   "metadata": {},
   "outputs": [
    {
     "data": {
      "text/html": [
       "<div>\n",
       "<style scoped>\n",
       "    .dataframe tbody tr th:only-of-type {\n",
       "        vertical-align: middle;\n",
       "    }\n",
       "\n",
       "    .dataframe tbody tr th {\n",
       "        vertical-align: top;\n",
       "    }\n",
       "\n",
       "    .dataframe thead th {\n",
       "        text-align: right;\n",
       "    }\n",
       "</style>\n",
       "<table border=\"1\" class=\"dataframe\">\n",
       "  <thead>\n",
       "    <tr style=\"text-align: right;\">\n",
       "      <th></th>\n",
       "      <th>03500000</th>\n",
       "      <th>03500240</th>\n",
       "      <th>03500500</th>\n",
       "      <th>0350056050</th>\n",
       "      <th>03501000</th>\n",
       "      <th>03501500</th>\n",
       "      <th>03501975</th>\n",
       "      <th>03502500</th>\n",
       "      <th>03503000</th>\n",
       "      <th>03503500</th>\n",
       "      <th>03504000</th>\n",
       "      <th>03505500</th>\n",
       "      <th>03505550</th>\n",
       "      <th>03506500</th>\n",
       "      <th>03507000</th>\n",
       "      <th>03513500</th>\n",
       "      <th>03514000</th>\n",
       "      <th>350413083130045</th>\n",
       "      <th>350557083325845</th>\n",
       "      <th>351205083213545</th>\n",
       "    </tr>\n",
       "  </thead>\n",
       "  <tbody>\n",
       "    <tr>\n",
       "      <th>agency</th>\n",
       "      <td>USGS</td>\n",
       "      <td>USGS</td>\n",
       "      <td>USGS</td>\n",
       "      <td>USGS</td>\n",
       "      <td>USGS</td>\n",
       "      <td>USGS</td>\n",
       "      <td>USGS</td>\n",
       "      <td>USGS</td>\n",
       "      <td>USGS</td>\n",
       "      <td>USGS</td>\n",
       "      <td>USGS</td>\n",
       "      <td>USGS</td>\n",
       "      <td>USGS</td>\n",
       "      <td>USGS</td>\n",
       "      <td>USGS</td>\n",
       "      <td>USGS</td>\n",
       "      <td>USGS</td>\n",
       "      <td>USGS</td>\n",
       "      <td>USGS</td>\n",
       "      <td>USGS</td>\n",
       "    </tr>\n",
       "    <tr>\n",
       "      <th>code</th>\n",
       "      <td>03500000</td>\n",
       "      <td>03500240</td>\n",
       "      <td>03500500</td>\n",
       "      <td>0350056050</td>\n",
       "      <td>03501000</td>\n",
       "      <td>03501500</td>\n",
       "      <td>03501975</td>\n",
       "      <td>03502500</td>\n",
       "      <td>03503000</td>\n",
       "      <td>03503500</td>\n",
       "      <td>03504000</td>\n",
       "      <td>03505500</td>\n",
       "      <td>03505550</td>\n",
       "      <td>03506500</td>\n",
       "      <td>03507000</td>\n",
       "      <td>03513500</td>\n",
       "      <td>03514000</td>\n",
       "      <td>350413083130045</td>\n",
       "      <td>350557083325845</td>\n",
       "      <td>351205083213545</td>\n",
       "    </tr>\n",
       "    <tr>\n",
       "      <th>county</th>\n",
       "      <td>37113</td>\n",
       "      <td>37113</td>\n",
       "      <td>37113</td>\n",
       "      <td>37113</td>\n",
       "      <td>37113</td>\n",
       "      <td>37113</td>\n",
       "      <td>37113</td>\n",
       "      <td>37113</td>\n",
       "      <td>37173</td>\n",
       "      <td>37173</td>\n",
       "      <td>37113</td>\n",
       "      <td>37173</td>\n",
       "      <td>37173</td>\n",
       "      <td>37173</td>\n",
       "      <td>37173</td>\n",
       "      <td>37173</td>\n",
       "      <td>37173</td>\n",
       "      <td>37113</td>\n",
       "      <td>37113</td>\n",
       "      <td>37113</td>\n",
       "    </tr>\n",
       "    <tr>\n",
       "      <th>huc</th>\n",
       "      <td>06010202</td>\n",
       "      <td>06010202</td>\n",
       "      <td>06010202</td>\n",
       "      <td>06010202</td>\n",
       "      <td>06010202</td>\n",
       "      <td>06010202</td>\n",
       "      <td>06010202</td>\n",
       "      <td>06010202</td>\n",
       "      <td>06010202</td>\n",
       "      <td>06010202</td>\n",
       "      <td>06010202</td>\n",
       "      <td>06010202</td>\n",
       "      <td>06010202</td>\n",
       "      <td>06010202</td>\n",
       "      <td>06010202</td>\n",
       "      <td>06010202</td>\n",
       "      <td>06010202</td>\n",
       "      <td>06010202</td>\n",
       "      <td>06010202</td>\n",
       "      <td>06010202</td>\n",
       "    </tr>\n",
       "    <tr>\n",
       "      <th>latitude</th>\n",
       "      <td>35.15</td>\n",
       "      <td>35.15888889</td>\n",
       "      <td>35.07064737</td>\n",
       "      <td>35.0761111</td>\n",
       "      <td>35.166484</td>\n",
       "      <td>35.18592846</td>\n",
       "      <td>35.2328611</td>\n",
       "      <td>35.2784285</td>\n",
       "      <td>35.33638889</td>\n",
       "      <td>35.38148229</td>\n",
       "      <td>35.1275</td>\n",
       "      <td>35.29870237</td>\n",
       "      <td>35.305</td>\n",
       "      <td>35.37564868</td>\n",
       "      <td>35.4084267</td>\n",
       "      <td>35.48481705</td>\n",
       "      <td>35.4773122</td>\n",
       "      <td>35.07027778</td>\n",
       "      <td>35.09916667</td>\n",
       "      <td>35.2</td>\n",
       "    </tr>\n",
       "  </tbody>\n",
       "</table>\n",
       "</div>"
      ],
      "text/plain": [
       "          03500000     03500240     03500500  0350056050   03501000  \\\n",
       "agency        USGS         USGS         USGS        USGS       USGS   \n",
       "code      03500000     03500240     03500500  0350056050   03501000   \n",
       "county       37113        37113        37113       37113      37113   \n",
       "huc       06010202     06010202     06010202    06010202   06010202   \n",
       "latitude     35.15  35.15888889  35.07064737  35.0761111  35.166484   \n",
       "\n",
       "             03501500    03501975    03502500     03503000     03503500  \\\n",
       "agency           USGS        USGS        USGS         USGS         USGS   \n",
       "code         03501500    03501975    03502500     03503000     03503500   \n",
       "county          37113       37113       37113        37173        37173   \n",
       "huc          06010202    06010202    06010202     06010202     06010202   \n",
       "latitude  35.18592846  35.2328611  35.2784285  35.33638889  35.38148229   \n",
       "\n",
       "          03504000     03505500  03505550     03506500    03507000  \\\n",
       "agency        USGS         USGS      USGS         USGS        USGS   \n",
       "code      03504000     03505500  03505550     03506500    03507000   \n",
       "county       37113        37173     37173        37173       37173   \n",
       "huc       06010202     06010202  06010202     06010202    06010202   \n",
       "latitude   35.1275  35.29870237    35.305  35.37564868  35.4084267   \n",
       "\n",
       "             03513500    03514000  350413083130045  350557083325845  \\\n",
       "agency           USGS        USGS             USGS             USGS   \n",
       "code         03513500    03514000  350413083130045  350557083325845   \n",
       "county          37173       37173            37113            37113   \n",
       "huc          06010202    06010202         06010202         06010202   \n",
       "latitude  35.48481705  35.4773122      35.07027778      35.09916667   \n",
       "\n",
       "          351205083213545  \n",
       "agency               USGS  \n",
       "code      351205083213545  \n",
       "county              37113  \n",
       "huc              06010202  \n",
       "latitude             35.2  "
      ]
     },
     "execution_count": 9,
     "metadata": {},
     "output_type": "execute_result"
    }
   ],
   "source": [
    "nwis_sites_df = pd.DataFrame(nwis_sites)\n",
    "nwis_sites_df.head()"
   ]
  },
  {
   "cell_type": "code",
   "execution_count": 10,
   "metadata": {},
   "outputs": [
    {
     "data": {
      "text/html": [
       "<div>\n",
       "<style scoped>\n",
       "    .dataframe tbody tr th:only-of-type {\n",
       "        vertical-align: middle;\n",
       "    }\n",
       "\n",
       "    .dataframe tbody tr th {\n",
       "        vertical-align: top;\n",
       "    }\n",
       "\n",
       "    .dataframe thead th {\n",
       "        text-align: right;\n",
       "    }\n",
       "</style>\n",
       "<table border=\"1\" class=\"dataframe\">\n",
       "  <thead>\n",
       "    <tr style=\"text-align: right;\">\n",
       "      <th></th>\n",
       "      <th>agency</th>\n",
       "      <th>code</th>\n",
       "      <th>county</th>\n",
       "      <th>huc</th>\n",
       "      <th>latitude</th>\n",
       "      <th>location</th>\n",
       "      <th>longitude</th>\n",
       "      <th>name</th>\n",
       "      <th>network</th>\n",
       "      <th>site_type</th>\n",
       "      <th>state_code</th>\n",
       "      <th>timezone_info</th>\n",
       "    </tr>\n",
       "  </thead>\n",
       "  <tbody>\n",
       "    <tr>\n",
       "      <th>03500000</th>\n",
       "      <td>USGS</td>\n",
       "      <td>03500000</td>\n",
       "      <td>37113</td>\n",
       "      <td>06010202</td>\n",
       "      <td>35.15</td>\n",
       "      <td>{'latitude': '35.15', 'longitude': '-83.379722...</td>\n",
       "      <td>-83.3797222</td>\n",
       "      <td>LITTLE TENNESSEE RIVER NEAR PRENTISS, NC</td>\n",
       "      <td>NWIS</td>\n",
       "      <td>ST</td>\n",
       "      <td>37</td>\n",
       "      <td>{'uses_dst': True, 'dst_tz': {'abbreviation': ...</td>\n",
       "    </tr>\n",
       "    <tr>\n",
       "      <th>03500240</th>\n",
       "      <td>USGS</td>\n",
       "      <td>03500240</td>\n",
       "      <td>37113</td>\n",
       "      <td>06010202</td>\n",
       "      <td>35.15888889</td>\n",
       "      <td>{'latitude': '35.15888889', 'longitude': '-83....</td>\n",
       "      <td>-83.3941667</td>\n",
       "      <td>CARTOOGECHAYE CREEK NEAR FRANKLIN, NC</td>\n",
       "      <td>NWIS</td>\n",
       "      <td>ST</td>\n",
       "      <td>37</td>\n",
       "      <td>{'uses_dst': True, 'dst_tz': {'abbreviation': ...</td>\n",
       "    </tr>\n",
       "  </tbody>\n",
       "</table>\n",
       "</div>"
      ],
      "text/plain": [
       "         agency      code county       huc     latitude  \\\n",
       "03500000   USGS  03500000  37113  06010202        35.15   \n",
       "03500240   USGS  03500240  37113  06010202  35.15888889   \n",
       "\n",
       "                                                   location    longitude  \\\n",
       "03500000  {'latitude': '35.15', 'longitude': '-83.379722...  -83.3797222   \n",
       "03500240  {'latitude': '35.15888889', 'longitude': '-83....  -83.3941667   \n",
       "\n",
       "                                              name network site_type  \\\n",
       "03500000  LITTLE TENNESSEE RIVER NEAR PRENTISS, NC    NWIS        ST   \n",
       "03500240     CARTOOGECHAYE CREEK NEAR FRANKLIN, NC    NWIS        ST   \n",
       "\n",
       "         state_code                                      timezone_info  \n",
       "03500000         37  {'uses_dst': True, 'dst_tz': {'abbreviation': ...  \n",
       "03500240         37  {'uses_dst': True, 'dst_tz': {'abbreviation': ...  "
      ]
     },
     "execution_count": 10,
     "metadata": {},
     "output_type": "execute_result"
    }
   ],
   "source": [
    "# Let's flip (transpose) the dataframe, so each row is a site\n",
    "nwis_sites_df = nwis_sites_df.T\n",
    "nwis_sites_df.head(2)"
   ]
  },
  {
   "cell_type": "code",
   "execution_count": 11,
   "metadata": {},
   "outputs": [
    {
     "data": {
      "text/html": [
       "<div>\n",
       "<style scoped>\n",
       "    .dataframe tbody tr th:only-of-type {\n",
       "        vertical-align: middle;\n",
       "    }\n",
       "\n",
       "    .dataframe tbody tr th {\n",
       "        vertical-align: top;\n",
       "    }\n",
       "\n",
       "    .dataframe thead th {\n",
       "        text-align: right;\n",
       "    }\n",
       "</style>\n",
       "<table border=\"1\" class=\"dataframe\">\n",
       "  <thead>\n",
       "    <tr style=\"text-align: right;\">\n",
       "      <th></th>\n",
       "      <th>agency</th>\n",
       "      <th>code</th>\n",
       "      <th>county</th>\n",
       "      <th>huc</th>\n",
       "      <th>latitude</th>\n",
       "      <th>longitude</th>\n",
       "      <th>name</th>\n",
       "      <th>network</th>\n",
       "      <th>site_type</th>\n",
       "      <th>state_code</th>\n",
       "    </tr>\n",
       "  </thead>\n",
       "  <tbody>\n",
       "    <tr>\n",
       "      <th>03500000</th>\n",
       "      <td>USGS</td>\n",
       "      <td>03500000</td>\n",
       "      <td>37113</td>\n",
       "      <td>06010202</td>\n",
       "      <td>35.150000</td>\n",
       "      <td>-83.379722</td>\n",
       "      <td>LITTLE TENNESSEE RIVER NEAR PRENTISS, NC</td>\n",
       "      <td>NWIS</td>\n",
       "      <td>ST</td>\n",
       "      <td>37</td>\n",
       "    </tr>\n",
       "    <tr>\n",
       "      <th>03500240</th>\n",
       "      <td>USGS</td>\n",
       "      <td>03500240</td>\n",
       "      <td>37113</td>\n",
       "      <td>06010202</td>\n",
       "      <td>35.158889</td>\n",
       "      <td>-83.394167</td>\n",
       "      <td>CARTOOGECHAYE CREEK NEAR FRANKLIN, NC</td>\n",
       "      <td>NWIS</td>\n",
       "      <td>ST</td>\n",
       "      <td>37</td>\n",
       "    </tr>\n",
       "  </tbody>\n",
       "</table>\n",
       "</div>"
      ],
      "text/plain": [
       "         agency      code county       huc   latitude  longitude  \\\n",
       "03500000   USGS  03500000  37113  06010202  35.150000 -83.379722   \n",
       "03500240   USGS  03500240  37113  06010202  35.158889 -83.394167   \n",
       "\n",
       "                                              name network site_type  \\\n",
       "03500000  LITTLE TENNESSEE RIVER NEAR PRENTISS, NC    NWIS        ST   \n",
       "03500240     CARTOOGECHAYE CREEK NEAR FRANKLIN, NC    NWIS        ST   \n",
       "\n",
       "         state_code  \n",
       "03500000         37  \n",
       "03500240         37  "
      ]
     },
     "execution_count": 11,
     "metadata": {},
     "output_type": "execute_result"
    }
   ],
   "source": [
    "# Final cleanups, improvements\n",
    "nwis_sites_df['latitude'] = nwis_sites_df['latitude'].astype(float)\n",
    "nwis_sites_df['longitude'] = nwis_sites_df['longitude'].astype(float)\n",
    "nwis_sites_df.drop(columns=['location', 'timezone_info'], inplace=True)\n",
    "nwis_sites_df.head(2)"
   ]
  },
  {
   "cell_type": "markdown",
   "metadata": {},
   "source": [
    "*What's that \"site_type\"?* Summarize all values"
   ]
  },
  {
   "cell_type": "code",
   "execution_count": 12,
   "metadata": {
    "collapsed": false
   },
   "outputs": [
    {
     "data": {
      "text/plain": [
       "ST    17\n",
       "AT     3\n",
       "Name: site_type, dtype: int64"
      ]
     },
     "execution_count": 12,
     "metadata": {},
     "output_type": "execute_result"
    }
   ],
   "source": [
    "nwis_sites_df['site_type'].value_counts()"
   ]
  },
  {
   "cell_type": "markdown",
   "metadata": {},
   "source": [
    "Site type codes are defined at http://help.waterdata.usgs.gov/site_tp_cd. For our purposes:\n",
    " - ST: Stream\n",
    " - AT: Atmosphere\n",
    " \n",
    "We could also have issued the `nwis.get_sites` query by passing a `site_type` value or list, like this:\n",
    "```python\n",
    "nwis_sits = ulmo.usgs.nwis.get_sites(huc=HUC8code, site_type=['ST'], service=None)\n",
    "```"
   ]
  },
  {
   "cell_type": "markdown",
   "metadata": {},
   "source": [
    "## Let's map the sites on an interactive map, with Folium\n",
    "Colored by site type."
   ]
  },
  {
   "cell_type": "code",
   "execution_count": 13,
   "metadata": {},
   "outputs": [
    {
     "data": {
      "text/html": [
       "<div style=\"width:100%;\"><div style=\"position:relative;width:100%;height:0;padding-bottom:60%;\"><iframe src=\"data:text/html;charset=utf-8;base64,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\" style=\"position:absolute;width:100%;height:100%;left:0;top:0;border:none !important;\" allowfullscreen webkitallowfullscreen mozallowfullscreen></iframe></div></div>"
      ],
      "text/plain": [
       "<folium.folium.Map at 0x7f1d26d5a908>"
      ]
     },
     "execution_count": 13,
     "metadata": {},
     "output_type": "execute_result"
    }
   ],
   "source": [
    "m = folium.Map(tiles='Stamen terrain')\n",
    "\n",
    "for idx, row in nwis_sites_df.iterrows():\n",
    "    folium.Marker(location=[row['latitude'], row['longitude']], \n",
    "                  icon=folium.Icon(color='blue' if row['site_type'] == 'ST' else 'gray'),\n",
    "                  popup=\"<b>{0}</b> {1}. Site type: {2}. {3}\".format(\n",
    "                      row['code'], row['name'], row['site_type'], row['network'])\n",
    "                 ).add_to(m)\n",
    "    \n",
    "# Set the map extent (bounds) to the extent of the sites\n",
    "m.fit_bounds(m.get_bounds())\n",
    "\n",
    "m"
   ]
  },
  {
   "cell_type": "markdown",
   "metadata": {},
   "source": [
    "The previous use case notebook from Yifan illustrated how to pull the time series data from nwis using ulmo, by specifying the site code and parameter code."
   ]
  },
  {
   "cell_type": "markdown",
   "metadata": {},
   "source": [
    "# How does this NWIS view compare to what we can find on that HUC8 using the **ModelMyWatershed App?**\n",
    "Let's go there and do some querying and browsing. https://modelmywatershed.org. We can navigate to the specific HUC8, or upload a GeoJSON spatial file for the HUC8, generated in advance.\n",
    "\n",
    "Also, I wonder what data are available near the **Coweeta** LTER station ..."
   ]
  },
  {
   "cell_type": "markdown",
   "metadata": {},
   "source": [
    "# Use `ulmo.cuahsi.wof` to pull time series data from a nearby site on CUAHSI HIS\n",
    "\n",
    "For examples of CUAHSI HIS catalog \"spatial querying\" (based on a bounding box) analogous to the NWIS spatial querying we've presented, go to [this CUAHSI resource on HydroShare](https://www.hydroshare.org/resource/c184323fc95c4c3e85c663f519b47084/). It includes a Jupyter notebook and a presentation on the CUAHI HIS Central API."
   ]
  },
  {
   "cell_type": "markdown",
   "metadata": {},
   "source": [
    "## Explore relevant sites on **HydroClient**\n",
    "\n",
    "I want to find a site \"nearby\", even if it's not in that HUC8, that meets these criteria:\n",
    "- Has dissolved oxygen\n",
    "- Is from a source other than the big federal agencies\n",
    "\n",
    "To do this, let's go to HydroClient. http://data.cuahsi.org. There, we can also visualize the time series using the HydroShare TimeSeries Viewer App, or download the data."
   ]
  },
  {
   "cell_type": "markdown",
   "metadata": {},
   "source": [
    "## Back to the code, to pull in the site's time series data\n",
    "I got `networkcd`, `sitecd` and `varcd` from the HydroClient results."
   ]
  },
  {
   "cell_type": "code",
   "execution_count": 14,
   "metadata": {},
   "outputs": [],
   "source": [
    "# http://hiscentral.cuahsi.org/pub_network.aspx?n=5639\n",
    "networkcd = 'ORSANCO_HAB'\n",
    "\n",
    "# The \"WSDL URL\" (CUAHSI WaterOneFlow web service endpoint)\n",
    "wsdlurl = \"http://hydroportal.cuahsi.org/{}/cuahsi_1_1.asmx?WSDL\".format(networkcd)"
   ]
  },
  {
   "cell_type": "code",
   "execution_count": 15,
   "metadata": {},
   "outputs": [],
   "source": [
    "sitecd = 'RCByrd'"
   ]
  },
  {
   "cell_type": "markdown",
   "metadata": {},
   "source": [
    "## But first let's explore site information (metadata, data availability)"
   ]
  },
  {
   "cell_type": "code",
   "execution_count": 16,
   "metadata": {},
   "outputs": [],
   "source": [
    "siteinfo = ulmo.cuahsi.wof.get_site_info(wsdlurl, \"{}:{}\".format(networkcd, sitecd))"
   ]
  },
  {
   "cell_type": "code",
   "execution_count": 17,
   "metadata": {},
   "outputs": [
    {
     "data": {
      "text/plain": [
       "dict_keys(['code', 'name', 'network', 'location', 'series'])"
      ]
     },
     "execution_count": 17,
     "metadata": {},
     "output_type": "execute_result"
    }
   ],
   "source": [
    "siteinfo.keys()"
   ]
  },
  {
   "cell_type": "markdown",
   "metadata": {},
   "source": [
    "The response is in **CUAHSI WaterML 1.1 format**, transformed by `ulmo` from the original XML into a Python dictionary for easier access."
   ]
  },
  {
   "cell_type": "code",
   "execution_count": 18,
   "metadata": {},
   "outputs": [
    {
     "data": {
      "text/plain": [
       "{'code': 'RCByrd',\n",
       " 'name': 'Robert C. Byrd Locks and Dam',\n",
       " 'network': 'ORSANCO_HAB',\n",
       " 'location': {'latitude': '38.685029',\n",
       "  'longitude': '-82.183691',\n",
       "  'srs': 'EPSG:4269'},\n",
       " 'series': {'ORSANCO_HAB:Bat_30': {'variable': {'value_type': 'Field Observation',\n",
       "    'data_type': 'Regular Sampling',\n",
       "    'general_category': 'Water Quality',\n",
       "    'sample_medium': 'Surface water',\n",
       "    'no_data_value': '-9999',\n",
       "    'speciation': 'Not Applicable',\n",
       "    'code': 'Bat_30',\n",
       "    'id': '59',\n",
       "    'name': 'Battery voltage',\n",
       "    'vocabulary': 'ORSANCO_HAB',\n",
       "    'time': {'is_regular': True,\n",
       "     'interval': '30',\n",
       "     'units': {'abbreviation': 'min',\n",
       "      'code': '102',\n",
       "      'name': 'minute',\n",
       "      'type': 'Time'}},\n",
       "    'units': {'abbreviation': 'V',\n",
       "     'code': '168',\n",
       "     'name': 'volts',\n",
       "     'type': 'Potential Difference'}},\n",
       "   '{http://www.cuahsi.org/water_ml/1.1/}method': {'method_id': '81',\n",
       "    'method_description': 'Data was collected in-situ at regular intervals by datasonde'},\n",
       "   '{http://www.cuahsi.org/water_ml/1.1/}source': {'source_id': '53',\n",
       "    'organization': 'Marshall College ',\n",
       "    'source_description': 'Marshall College',\n",
       "    'citation': 'Unknown'},\n",
       "   '{http://www.cuahsi.org/water_ml/1.1/}quality_control_level': {'quality_control_level_id': '-9999',\n",
       "    'quality_control_level_code': '-9999',\n",
       "    'definition': 'Unknown'},\n",
       "   '{http://www.cuahsi.org/water_ml/1.1/}variable_time_interval': {'variable_time_interval_type': 'TimeIntervalType',\n",
       "    'begin_date_time': '2017-07-27T12:00:00',\n",
       "    'end_date_time': '2017-09-05T12:00:00',\n",
       "    'begin_date_time_utc': '2017-07-27T12:00:00',\n",
       "    'end_date_time_utc': '2017-09-05T12:00:00'},\n",
       "   '{http://www.cuahsi.org/water_ml/1.1/}value_count': {'value_count': '1927'}},\n",
       "  'ORSANCO_HAB:Temp_30': {'variable': {'value_type': 'Field Observation',\n",
       "    'data_type': 'Regular Sampling',\n",
       "    'general_category': 'Water Quality',\n",
       "    'sample_medium': 'Surface water',\n",
       "    'no_data_value': '-9999',\n",
       "    'speciation': 'Not Applicable',\n",
       "    'code': 'Temp_30',\n",
       "    'id': '60',\n",
       "    'name': 'Temperature, sensor',\n",
       "    'vocabulary': 'ORSANCO_HAB',\n",
       "    'time': {'is_regular': True,\n",
       "     'interval': '30',\n",
       "     'units': {'abbreviation': 'min',\n",
       "      'code': '102',\n",
       "      'name': 'minute',\n",
       "      'type': 'Time'}},\n",
       "    'units': {'abbreviation': 'degC',\n",
       "     'code': '96',\n",
       "     'name': 'degree celsius',\n",
       "     'type': 'Temperature'}},\n",
       "   '{http://www.cuahsi.org/water_ml/1.1/}method': {'method_id': '81',\n",
       "    'method_description': 'Data was collected in-situ at regular intervals by datasonde'},\n",
       "   '{http://www.cuahsi.org/water_ml/1.1/}source': {'source_id': '53',\n",
       "    'organization': 'Marshall College ',\n",
       "    'source_description': 'Marshall College',\n",
       "    'citation': 'Unknown'},\n",
       "   '{http://www.cuahsi.org/water_ml/1.1/}quality_control_level': {'quality_control_level_id': '-9999',\n",
       "    'quality_control_level_code': '-9999',\n",
       "    'definition': 'Unknown'},\n",
       "   '{http://www.cuahsi.org/water_ml/1.1/}variable_time_interval': {'variable_time_interval_type': 'TimeIntervalType',\n",
       "    'begin_date_time': '2017-07-27T12:00:00',\n",
       "    'end_date_time': '2017-09-05T12:00:00',\n",
       "    'begin_date_time_utc': '2017-07-27T12:00:00',\n",
       "    'end_date_time_utc': '2017-09-05T12:00:00'},\n",
       "   '{http://www.cuahsi.org/water_ml/1.1/}value_count': {'value_count': '1927'}},\n",
       "  'ORSANCO_HAB:Sp_Cond_30': {'variable': {'value_type': 'Field Observation',\n",
       "    'data_type': 'Regular Sampling',\n",
       "    'general_category': 'Water Quality',\n",
       "    'sample_medium': 'Surface water',\n",
       "    'no_data_value': '-9999',\n",
       "    'speciation': 'Not Applicable',\n",
       "    'code': 'Sp_Cond_30',\n",
       "    'id': '61',\n",
       "    'name': 'Specific Conductance',\n",
       "    'vocabulary': 'ORSANCO_HAB',\n",
       "    'time': {'is_regular': True,\n",
       "     'interval': '30',\n",
       "     'units': {'abbreviation': 'min',\n",
       "      'code': '102',\n",
       "      'name': 'minute',\n",
       "      'type': 'Time'}},\n",
       "    'units': {'abbreviation': 'uS/cm',\n",
       "     'code': '192',\n",
       "     'name': 'microsiemens per centimeter',\n",
       "     'type': 'Electrical Conductivity'}},\n",
       "   '{http://www.cuahsi.org/water_ml/1.1/}method': {'method_id': '81',\n",
       "    'method_description': 'Data was collected in-situ at regular intervals by datasonde'},\n",
       "   '{http://www.cuahsi.org/water_ml/1.1/}source': {'source_id': '53',\n",
       "    'organization': 'Marshall College ',\n",
       "    'source_description': 'Marshall College',\n",
       "    'citation': 'Unknown'},\n",
       "   '{http://www.cuahsi.org/water_ml/1.1/}quality_control_level': {'quality_control_level_id': '-9999',\n",
       "    'quality_control_level_code': '-9999',\n",
       "    'definition': 'Unknown'},\n",
       "   '{http://www.cuahsi.org/water_ml/1.1/}variable_time_interval': {'variable_time_interval_type': 'TimeIntervalType',\n",
       "    'begin_date_time': '2017-07-27T12:00:00',\n",
       "    'end_date_time': '2017-09-05T12:00:00',\n",
       "    'begin_date_time_utc': '2017-07-27T12:00:00',\n",
       "    'end_date_time_utc': '2017-09-05T12:00:00'},\n",
       "   '{http://www.cuahsi.org/water_ml/1.1/}value_count': {'value_count': '1927'}},\n",
       "  'ORSANCO_HAB:pH_30': {'variable': {'value_type': 'Field Observation',\n",
       "    'data_type': 'Regular Sampling',\n",
       "    'general_category': 'Water Quality',\n",
       "    'sample_medium': 'Surface water',\n",
       "    'no_data_value': '-9999',\n",
       "    'speciation': 'Not Applicable',\n",
       "    'code': 'pH_30',\n",
       "    'id': '62',\n",
       "    'name': 'pH',\n",
       "    'vocabulary': 'ORSANCO_HAB',\n",
       "    'time': {'is_regular': True,\n",
       "     'interval': '30',\n",
       "     'units': {'abbreviation': 'min',\n",
       "      'code': '102',\n",
       "      'name': 'minute',\n",
       "      'type': 'Time'}},\n",
       "    'units': {'abbreviation': 'pH',\n",
       "     'code': '309',\n",
       "     'name': 'pH Unit',\n",
       "     'type': 'Dimensionless'}},\n",
       "   '{http://www.cuahsi.org/water_ml/1.1/}method': {'method_id': '81',\n",
       "    'method_description': 'Data was collected in-situ at regular intervals by datasonde'},\n",
       "   '{http://www.cuahsi.org/water_ml/1.1/}source': {'source_id': '53',\n",
       "    'organization': 'Marshall College ',\n",
       "    'source_description': 'Marshall College',\n",
       "    'citation': 'Unknown'},\n",
       "   '{http://www.cuahsi.org/water_ml/1.1/}quality_control_level': {'quality_control_level_id': '-9999',\n",
       "    'quality_control_level_code': '-9999',\n",
       "    'definition': 'Unknown'},\n",
       "   '{http://www.cuahsi.org/water_ml/1.1/}variable_time_interval': {'variable_time_interval_type': 'TimeIntervalType',\n",
       "    'begin_date_time': '2017-07-27T12:00:00',\n",
       "    'end_date_time': '2017-09-05T12:00:00',\n",
       "    'begin_date_time_utc': '2017-07-27T12:00:00',\n",
       "    'end_date_time_utc': '2017-09-05T12:00:00'},\n",
       "   '{http://www.cuahsi.org/water_ml/1.1/}value_count': {'value_count': '1927'}},\n",
       "  'ORSANCO_HAB:Turb_30': {'variable': {'value_type': 'Field Observation',\n",
       "    'data_type': 'Regular Sampling',\n",
       "    'general_category': 'Water Quality',\n",
       "    'sample_medium': 'Surface water',\n",
       "    'no_data_value': '-9999',\n",
       "    'speciation': 'Not Applicable',\n",
       "    'code': 'Turb_30',\n",
       "    'id': '63',\n",
       "    'name': 'Turbidity',\n",
       "    'vocabulary': 'ORSANCO_HAB',\n",
       "    'time': {'is_regular': True,\n",
       "     'interval': '30',\n",
       "     'units': {'abbreviation': 'min',\n",
       "      'code': '102',\n",
       "      'name': 'minute',\n",
       "      'type': 'Time'}},\n",
       "    'units': {'abbreviation': 'NTU',\n",
       "     'code': '221',\n",
       "     'name': 'nephelometric turbidity units',\n",
       "     'type': 'Turbidity'}},\n",
       "   '{http://www.cuahsi.org/water_ml/1.1/}method': {'method_id': '81',\n",
       "    'method_description': 'Data was collected in-situ at regular intervals by datasonde'},\n",
       "   '{http://www.cuahsi.org/water_ml/1.1/}source': {'source_id': '53',\n",
       "    'organization': 'Marshall College ',\n",
       "    'source_description': 'Marshall College',\n",
       "    'citation': 'Unknown'},\n",
       "   '{http://www.cuahsi.org/water_ml/1.1/}quality_control_level': {'quality_control_level_id': '-9999',\n",
       "    'quality_control_level_code': '-9999',\n",
       "    'definition': 'Unknown'},\n",
       "   '{http://www.cuahsi.org/water_ml/1.1/}variable_time_interval': {'variable_time_interval_type': 'TimeIntervalType',\n",
       "    'begin_date_time': '2017-07-27T12:00:00',\n",
       "    'end_date_time': '2017-09-05T12:00:00',\n",
       "    'begin_date_time_utc': '2017-07-27T12:00:00',\n",
       "    'end_date_time_utc': '2017-09-05T12:00:00'},\n",
       "   '{http://www.cuahsi.org/water_ml/1.1/}value_count': {'value_count': '1927'}},\n",
       "  'ORSANCO_HAB:ODOSat_30': {'variable': {'value_type': 'Field Observation',\n",
       "    'data_type': 'Regular Sampling',\n",
       "    'general_category': 'Water Quality',\n",
       "    'sample_medium': 'Surface water',\n",
       "    'no_data_value': '-9999',\n",
       "    'speciation': 'O2',\n",
       "    'code': 'ODOSat_30',\n",
       "    'id': '64',\n",
       "    'name': 'Oxygen, dissolved',\n",
       "    'vocabulary': 'ORSANCO_HAB',\n",
       "    'time': {'is_regular': True,\n",
       "     'interval': '30',\n",
       "     'units': {'abbreviation': 'min',\n",
       "      'code': '102',\n",
       "      'name': 'minute',\n",
       "      'type': 'Time'}},\n",
       "    'units': {'abbreviation': '%',\n",
       "     'code': '1',\n",
       "     'name': 'percent',\n",
       "     'type': 'Dimensionless'}},\n",
       "   '{http://www.cuahsi.org/water_ml/1.1/}method': {'method_id': '81',\n",
       "    'method_description': 'Data was collected in-situ at regular intervals by datasonde'},\n",
       "   '{http://www.cuahsi.org/water_ml/1.1/}source': {'source_id': '53',\n",
       "    'organization': 'Marshall College ',\n",
       "    'source_description': 'Marshall College',\n",
       "    'citation': 'Unknown'},\n",
       "   '{http://www.cuahsi.org/water_ml/1.1/}quality_control_level': {'quality_control_level_id': '-9999',\n",
       "    'quality_control_level_code': '-9999',\n",
       "    'definition': 'Unknown'},\n",
       "   '{http://www.cuahsi.org/water_ml/1.1/}variable_time_interval': {'variable_time_interval_type': 'TimeIntervalType',\n",
       "    'begin_date_time': '2017-07-27T12:00:00',\n",
       "    'end_date_time': '2017-09-05T12:00:00',\n",
       "    'begin_date_time_utc': '2017-07-27T12:00:00',\n",
       "    'end_date_time_utc': '2017-09-05T12:00:00'},\n",
       "   '{http://www.cuahsi.org/water_ml/1.1/}value_count': {'value_count': '1927'}},\n",
       "  'ORSANCO_HAB:ODO_30': {'variable': {'value_type': 'Field Observation',\n",
       "    'data_type': 'Regular Sampling',\n",
       "    'general_category': 'Water Quality',\n",
       "    'sample_medium': 'Surface water',\n",
       "    'no_data_value': '-9999',\n",
       "    'speciation': 'O2',\n",
       "    'code': 'ODO_30',\n",
       "    'id': '65',\n",
       "    'name': 'Oxygen, dissolved',\n",
       "    'vocabulary': 'ORSANCO_HAB',\n",
       "    'time': {'is_regular': True,\n",
       "     'interval': '30',\n",
       "     'units': {'abbreviation': 'min',\n",
       "      'code': '102',\n",
       "      'name': 'minute',\n",
       "      'type': 'Time'}},\n",
       "    'units': {'abbreviation': 'mg/L',\n",
       "     'code': '199',\n",
       "     'name': 'milligrams per liter',\n",
       "     'type': 'Concentration'}},\n",
       "   '{http://www.cuahsi.org/water_ml/1.1/}method': {'method_id': '81',\n",
       "    'method_description': 'Data was collected in-situ at regular intervals by datasonde'},\n",
       "   '{http://www.cuahsi.org/water_ml/1.1/}source': {'source_id': '53',\n",
       "    'organization': 'Marshall College ',\n",
       "    'source_description': 'Marshall College',\n",
       "    'citation': 'Unknown'},\n",
       "   '{http://www.cuahsi.org/water_ml/1.1/}quality_control_level': {'quality_control_level_id': '-9999',\n",
       "    'quality_control_level_code': '-9999',\n",
       "    'definition': 'Unknown'},\n",
       "   '{http://www.cuahsi.org/water_ml/1.1/}variable_time_interval': {'variable_time_interval_type': 'TimeIntervalType',\n",
       "    'begin_date_time': '2017-07-27T12:00:00',\n",
       "    'end_date_time': '2017-09-05T12:00:00',\n",
       "    'begin_date_time_utc': '2017-07-27T12:00:00',\n",
       "    'end_date_time_utc': '2017-09-05T12:00:00'},\n",
       "   '{http://www.cuahsi.org/water_ml/1.1/}value_count': {'value_count': '1927'}},\n",
       "  'ORSANCO_HAB:Chlorophyll_30': {'variable': {'value_type': 'Field Observation',\n",
       "    'data_type': 'Regular Sampling',\n",
       "    'general_category': 'Water Quality',\n",
       "    'sample_medium': 'Surface water',\n",
       "    'no_data_value': '-9999',\n",
       "    'speciation': 'Not Applicable',\n",
       "    'code': 'Chlorophyll_30',\n",
       "    'id': '66',\n",
       "    'name': 'Chlorophyll (a+b+c)',\n",
       "    'vocabulary': 'ORSANCO_HAB',\n",
       "    'time': {'is_regular': True,\n",
       "     'interval': '30',\n",
       "     'units': {'abbreviation': 'min',\n",
       "      'code': '102',\n",
       "      'name': 'minute',\n",
       "      'type': 'Time'}},\n",
       "    'units': {'abbreviation': 'ug/L',\n",
       "     'code': '204',\n",
       "     'name': 'micrograms per liter',\n",
       "     'type': 'Concentration'}},\n",
       "   '{http://www.cuahsi.org/water_ml/1.1/}method': {'method_id': '81',\n",
       "    'method_description': 'Data was collected in-situ at regular intervals by datasonde'},\n",
       "   '{http://www.cuahsi.org/water_ml/1.1/}source': {'source_id': '53',\n",
       "    'organization': 'Marshall College ',\n",
       "    'source_description': 'Marshall College',\n",
       "    'citation': 'Unknown'},\n",
       "   '{http://www.cuahsi.org/water_ml/1.1/}quality_control_level': {'quality_control_level_id': '-9999',\n",
       "    'quality_control_level_code': '-9999',\n",
       "    'definition': 'Unknown'},\n",
       "   '{http://www.cuahsi.org/water_ml/1.1/}variable_time_interval': {'variable_time_interval_type': 'TimeIntervalType',\n",
       "    'begin_date_time': '2017-07-27T12:00:00',\n",
       "    'end_date_time': '2017-09-05T12:00:00',\n",
       "    'begin_date_time_utc': '2017-07-27T12:00:00',\n",
       "    'end_date_time_utc': '2017-09-05T12:00:00'},\n",
       "   '{http://www.cuahsi.org/water_ml/1.1/}value_count': {'value_count': '1927'}},\n",
       "  'ORSANCO_HAB:Chl_RFU_30': {'variable': {'value_type': 'Field Observation',\n",
       "    'data_type': 'Regular Sampling',\n",
       "    'general_category': 'Water Quality',\n",
       "    'sample_medium': 'Surface water',\n",
       "    'no_data_value': '-9999',\n",
       "    'speciation': 'Cl',\n",
       "    'code': 'Chl_RFU_30',\n",
       "    'id': '67',\n",
       "    'name': 'Chlorine, dissolved',\n",
       "    'vocabulary': 'ORSANCO_HAB',\n",
       "    'time': {'is_regular': True,\n",
       "     'interval': '30',\n",
       "     'units': {'abbreviation': 'min',\n",
       "      'code': '102',\n",
       "      'name': 'minute',\n",
       "      'type': 'Time'}},\n",
       "    'units': {'abbreviation': 'RFU',\n",
       "     'code': '332',\n",
       "     'name': 'relative fluorescence units',\n",
       "     'type': 'Fluorescence'}},\n",
       "   '{http://www.cuahsi.org/water_ml/1.1/}method': {'method_id': '81',\n",
       "    'method_description': 'Data was collected in-situ at regular intervals by datasonde'},\n",
       "   '{http://www.cuahsi.org/water_ml/1.1/}source': {'source_id': '53',\n",
       "    'organization': 'Marshall College ',\n",
       "    'source_description': 'Marshall College',\n",
       "    'citation': 'Unknown'},\n",
       "   '{http://www.cuahsi.org/water_ml/1.1/}quality_control_level': {'quality_control_level_id': '-9999',\n",
       "    'quality_control_level_code': '-9999',\n",
       "    'definition': 'Unknown'},\n",
       "   '{http://www.cuahsi.org/water_ml/1.1/}variable_time_interval': {'variable_time_interval_type': 'TimeIntervalType',\n",
       "    'begin_date_time': '2017-07-27T12:00:00',\n",
       "    'end_date_time': '2017-09-05T12:00:00',\n",
       "    'begin_date_time_utc': '2017-07-27T12:00:00',\n",
       "    'end_date_time_utc': '2017-09-05T12:00:00'},\n",
       "   '{http://www.cuahsi.org/water_ml/1.1/}value_count': {'value_count': '1927'}},\n",
       "  'ORSANCO_HAB:BGA-PC_RAW_30': {'variable': {'value_type': 'Field Observation',\n",
       "    'data_type': 'Regular Sampling',\n",
       "    'general_category': 'Water Quality',\n",
       "    'sample_medium': 'Surface water',\n",
       "    'no_data_value': '-9999',\n",
       "    'speciation': 'Not Applicable',\n",
       "    'code': 'BGA-PC_RAW_30',\n",
       "    'id': '68',\n",
       "    'name': 'Blue-green algae (cyanobacteria), phycocyanin',\n",
       "    'vocabulary': 'ORSANCO_HAB',\n",
       "    'time': {'is_regular': True,\n",
       "     'interval': '30',\n",
       "     'units': {'abbreviation': 'min',\n",
       "      'code': '102',\n",
       "      'name': 'minute',\n",
       "      'type': 'Time'}},\n",
       "    'units': {'abbreviation': '-',\n",
       "     'code': '137',\n",
       "     'name': 'dimensionless',\n",
       "     'type': 'Dimensionless'}},\n",
       "   '{http://www.cuahsi.org/water_ml/1.1/}method': {'method_id': '81',\n",
       "    'method_description': 'Data was collected in-situ at regular intervals by datasonde'},\n",
       "   '{http://www.cuahsi.org/water_ml/1.1/}source': {'source_id': '53',\n",
       "    'organization': 'Marshall College ',\n",
       "    'source_description': 'Marshall College',\n",
       "    'citation': 'Unknown'},\n",
       "   '{http://www.cuahsi.org/water_ml/1.1/}quality_control_level': {'quality_control_level_id': '-9999',\n",
       "    'quality_control_level_code': '-9999',\n",
       "    'definition': 'Unknown'},\n",
       "   '{http://www.cuahsi.org/water_ml/1.1/}variable_time_interval': {'variable_time_interval_type': 'TimeIntervalType',\n",
       "    'begin_date_time': '2017-07-27T12:00:00',\n",
       "    'end_date_time': '2017-09-05T12:00:00',\n",
       "    'begin_date_time_utc': '2017-07-27T12:00:00',\n",
       "    'end_date_time_utc': '2017-09-05T12:00:00'},\n",
       "   '{http://www.cuahsi.org/water_ml/1.1/}value_count': {'value_count': '1927'}},\n",
       "  'ORSANCO_HAB:BGA-PC_30': {'variable': {'value_type': 'Field Observation',\n",
       "    'data_type': 'Regular Sampling',\n",
       "    'general_category': 'Water Quality',\n",
       "    'sample_medium': 'Surface water',\n",
       "    'no_data_value': '-9999',\n",
       "    'speciation': 'Not Applicable',\n",
       "    'code': 'BGA-PC_30',\n",
       "    'id': '69',\n",
       "    'name': 'Blue-green algae (cyanobacteria), phycocyanin',\n",
       "    'vocabulary': 'ORSANCO_HAB',\n",
       "    'time': {'is_regular': True,\n",
       "     'interval': '30',\n",
       "     'units': {'abbreviation': 'min',\n",
       "      'code': '102',\n",
       "      'name': 'minute',\n",
       "      'type': 'Time'}},\n",
       "    'units': {'abbreviation': 'ug/L',\n",
       "     'code': '204',\n",
       "     'name': 'micrograms per liter',\n",
       "     'type': 'Concentration'}},\n",
       "   '{http://www.cuahsi.org/water_ml/1.1/}method': {'method_id': '81',\n",
       "    'method_description': 'Data was collected in-situ at regular intervals by datasonde'},\n",
       "   '{http://www.cuahsi.org/water_ml/1.1/}source': {'source_id': '53',\n",
       "    'organization': 'Marshall College ',\n",
       "    'source_description': 'Marshall College',\n",
       "    'citation': 'Unknown'},\n",
       "   '{http://www.cuahsi.org/water_ml/1.1/}quality_control_level': {'quality_control_level_id': '-9999',\n",
       "    'quality_control_level_code': '-9999',\n",
       "    'definition': 'Unknown'},\n",
       "   '{http://www.cuahsi.org/water_ml/1.1/}variable_time_interval': {'variable_time_interval_type': 'TimeIntervalType',\n",
       "    'begin_date_time': '2017-07-27T12:00:00',\n",
       "    'end_date_time': '2017-09-05T12:00:00',\n",
       "    'begin_date_time_utc': '2017-07-27T12:00:00',\n",
       "    'end_date_time_utc': '2017-09-05T12:00:00'},\n",
       "   '{http://www.cuahsi.org/water_ml/1.1/}value_count': {'value_count': '1927'}},\n",
       "  'ORSANCO_HAB:Depth_30': {'variable': {'value_type': 'Field Observation',\n",
       "    'data_type': 'Regular Sampling',\n",
       "    'general_category': 'Water Quality',\n",
       "    'sample_medium': 'Surface water',\n",
       "    'no_data_value': '-9999',\n",
       "    'speciation': 'Not Applicable',\n",
       "    'code': 'Depth_30',\n",
       "    'id': '70',\n",
       "    'name': 'Water depth',\n",
       "    'vocabulary': 'ORSANCO_HAB',\n",
       "    'time': {'is_regular': True,\n",
       "     'interval': '30',\n",
       "     'units': {'abbreviation': 'min',\n",
       "      'code': '102',\n",
       "      'name': 'minute',\n",
       "      'type': 'Time'}},\n",
       "    'units': {'abbreviation': 'm',\n",
       "     'code': '52',\n",
       "     'name': 'meter',\n",
       "     'type': 'Length'}},\n",
       "   '{http://www.cuahsi.org/water_ml/1.1/}method': {'method_id': '81',\n",
       "    'method_description': 'Data was collected in-situ at regular intervals by datasonde'},\n",
       "   '{http://www.cuahsi.org/water_ml/1.1/}source': {'source_id': '53',\n",
       "    'organization': 'Marshall College ',\n",
       "    'source_description': 'Marshall College',\n",
       "    'citation': 'Unknown'},\n",
       "   '{http://www.cuahsi.org/water_ml/1.1/}quality_control_level': {'quality_control_level_id': '-9999',\n",
       "    'quality_control_level_code': '-9999',\n",
       "    'definition': 'Unknown'},\n",
       "   '{http://www.cuahsi.org/water_ml/1.1/}variable_time_interval': {'variable_time_interval_type': 'TimeIntervalType',\n",
       "    'begin_date_time': '2017-07-27T12:00:00',\n",
       "    'end_date_time': '2017-09-05T12:00:00',\n",
       "    'begin_date_time_utc': '2017-07-27T12:00:00',\n",
       "    'end_date_time_utc': '2017-09-05T12:00:00'},\n",
       "   '{http://www.cuahsi.org/water_ml/1.1/}value_count': {'value_count': '1927'}},\n",
       "  'ORSANCO_HAB:Wiper_Pos_30': {'variable': {'value_type': 'Field Observation',\n",
       "    'data_type': 'Regular Sampling',\n",
       "    'general_category': 'Water Quality',\n",
       "    'sample_medium': 'Surface water',\n",
       "    'no_data_value': '-9999',\n",
       "    'speciation': 'Not Applicable',\n",
       "    'code': 'Wiper_Pos_30',\n",
       "    'id': '71',\n",
       "    'name': 'Position',\n",
       "    'vocabulary': 'ORSANCO_HAB',\n",
       "    'time': {'is_regular': True,\n",
       "     'interval': '30',\n",
       "     'units': {'abbreviation': 'min',\n",
       "      'code': '102',\n",
       "      'name': 'minute',\n",
       "      'type': 'Time'}},\n",
       "    'units': {'abbreviation': '-',\n",
       "     'code': '1379',\n",
       "     'name': 'Boolean',\n",
       "     'type': 'Dimensionless'}},\n",
       "   '{http://www.cuahsi.org/water_ml/1.1/}method': {'method_id': '81',\n",
       "    'method_description': 'Data was collected in-situ at regular intervals by datasonde'},\n",
       "   '{http://www.cuahsi.org/water_ml/1.1/}source': {'source_id': '53',\n",
       "    'organization': 'Marshall College ',\n",
       "    'source_description': 'Marshall College',\n",
       "    'citation': 'Unknown'},\n",
       "   '{http://www.cuahsi.org/water_ml/1.1/}quality_control_level': {'quality_control_level_id': '-9999',\n",
       "    'quality_control_level_code': '-9999',\n",
       "    'definition': 'Unknown'},\n",
       "   '{http://www.cuahsi.org/water_ml/1.1/}variable_time_interval': {'variable_time_interval_type': 'TimeIntervalType',\n",
       "    'begin_date_time': '2017-07-27T12:00:00',\n",
       "    'end_date_time': '2017-09-05T12:00:00',\n",
       "    'begin_date_time_utc': '2017-07-27T12:00:00',\n",
       "    'end_date_time_utc': '2017-09-05T12:00:00'},\n",
       "   '{http://www.cuahsi.org/water_ml/1.1/}value_count': {'value_count': '1927'}},\n",
       "  'ORSANCO_HAB:Cable_Pwr_30': {'variable': {'value_type': 'Field Observation',\n",
       "    'data_type': 'Regular Sampling',\n",
       "    'general_category': 'Water Quality',\n",
       "    'sample_medium': 'Surface water',\n",
       "    'no_data_value': '-9999',\n",
       "    'speciation': 'Not Applicable',\n",
       "    'code': 'Cable_Pwr_30',\n",
       "    'id': '72',\n",
       "    'name': 'Electric Power',\n",
       "    'vocabulary': 'ORSANCO_HAB',\n",
       "    'time': {'is_regular': True,\n",
       "     'interval': '30',\n",
       "     'units': {'abbreviation': 'min',\n",
       "      'code': '102',\n",
       "      'name': 'minute',\n",
       "      'type': 'Time'}},\n",
       "    'units': {'abbreviation': 'V',\n",
       "     'code': '168',\n",
       "     'name': 'volts',\n",
       "     'type': 'Potential Difference'}},\n",
       "   '{http://www.cuahsi.org/water_ml/1.1/}method': {'method_id': '81',\n",
       "    'method_description': 'Data was collected in-situ at regular intervals by datasonde'},\n",
       "   '{http://www.cuahsi.org/water_ml/1.1/}source': {'source_id': '53',\n",
       "    'organization': 'Marshall College ',\n",
       "    'source_description': 'Marshall College',\n",
       "    'citation': 'Unknown'},\n",
       "   '{http://www.cuahsi.org/water_ml/1.1/}quality_control_level': {'quality_control_level_id': '-9999',\n",
       "    'quality_control_level_code': '-9999',\n",
       "    'definition': 'Unknown'},\n",
       "   '{http://www.cuahsi.org/water_ml/1.1/}variable_time_interval': {'variable_time_interval_type': 'TimeIntervalType',\n",
       "    'begin_date_time': '2017-07-27T12:00:00',\n",
       "    'end_date_time': '2017-09-05T12:00:00',\n",
       "    'begin_date_time_utc': '2017-07-27T12:00:00',\n",
       "    'end_date_time_utc': '2017-09-05T12:00:00'},\n",
       "   '{http://www.cuahsi.org/water_ml/1.1/}value_count': {'value_count': '1927'}}}}"
      ]
     },
     "execution_count": 18,
     "metadata": {},
     "output_type": "execute_result"
    }
   ],
   "source": [
    "siteinfo"
   ]
  },
  {
   "cell_type": "markdown",
   "metadata": {},
   "source": [
    "## Request, parse and plot the time series"
   ]
  },
  {
   "cell_type": "code",
   "execution_count": 19,
   "metadata": {},
   "outputs": [],
   "source": [
    "varcd = \"ORSANCO_HAB:ODO_30\""
   ]
  },
  {
   "cell_type": "code",
   "execution_count": 20,
   "metadata": {},
   "outputs": [
    {
     "data": {
      "text/plain": [
       "{'variable': {'value_type': 'Field Observation',\n",
       "  'data_type': 'Regular Sampling',\n",
       "  'general_category': 'Water Quality',\n",
       "  'sample_medium': 'Surface water',\n",
       "  'no_data_value': '-9999',\n",
       "  'speciation': 'O2',\n",
       "  'code': 'ODO_30',\n",
       "  'id': '65',\n",
       "  'name': 'Oxygen, dissolved',\n",
       "  'vocabulary': 'ORSANCO_HAB',\n",
       "  'time': {'is_regular': True,\n",
       "   'interval': '30',\n",
       "   'units': {'abbreviation': 'min',\n",
       "    'code': '102',\n",
       "    'name': 'minute',\n",
       "    'type': 'Time'}},\n",
       "  'units': {'abbreviation': 'mg/L',\n",
       "   'code': '199',\n",
       "   'name': 'milligrams per liter',\n",
       "   'type': 'Concentration'}},\n",
       " '{http://www.cuahsi.org/water_ml/1.1/}method': {'method_id': '81',\n",
       "  'method_description': 'Data was collected in-situ at regular intervals by datasonde'},\n",
       " '{http://www.cuahsi.org/water_ml/1.1/}source': {'source_id': '53',\n",
       "  'organization': 'Marshall College ',\n",
       "  'source_description': 'Marshall College',\n",
       "  'citation': 'Unknown'},\n",
       " '{http://www.cuahsi.org/water_ml/1.1/}quality_control_level': {'quality_control_level_id': '-9999',\n",
       "  'quality_control_level_code': '-9999',\n",
       "  'definition': 'Unknown'},\n",
       " '{http://www.cuahsi.org/water_ml/1.1/}variable_time_interval': {'variable_time_interval_type': 'TimeIntervalType',\n",
       "  'begin_date_time': '2017-07-27T12:00:00',\n",
       "  'end_date_time': '2017-09-05T12:00:00',\n",
       "  'begin_date_time_utc': '2017-07-27T12:00:00',\n",
       "  'end_date_time_utc': '2017-09-05T12:00:00'},\n",
       " '{http://www.cuahsi.org/water_ml/1.1/}value_count': {'value_count': '1927'}}"
      ]
     },
     "execution_count": 20,
     "metadata": {},
     "output_type": "execute_result"
    }
   ],
   "source": [
    "siteinfo['series'][varcd]"
   ]
  },
  {
   "cell_type": "code",
   "execution_count": 21,
   "metadata": {},
   "outputs": [
    {
     "data": {
      "text/plain": [
       "{'variable_time_interval_type': 'TimeIntervalType',\n",
       " 'begin_date_time': '2017-07-27T12:00:00',\n",
       " 'end_date_time': '2017-09-05T12:00:00',\n",
       " 'begin_date_time_utc': '2017-07-27T12:00:00',\n",
       " 'end_date_time_utc': '2017-09-05T12:00:00'}"
      ]
     },
     "execution_count": 21,
     "metadata": {},
     "output_type": "execute_result"
    }
   ],
   "source": [
    "time_interval = siteinfo['series'][varcd]['{http://www.cuahsi.org/water_ml/1.1/}variable_time_interval']\n",
    "time_interval"
   ]
  },
  {
   "cell_type": "code",
   "execution_count": 22,
   "metadata": {
    "collapsed": false
   },
   "outputs": [],
   "source": [
    "site_tsval = ulmo.cuahsi.wof.get_values(wsdlurl, \"{}:{}\".format(networkcd, sitecd), varcd,\n",
    "                                        start=time_interval['begin_date_time_utc'], \n",
    "                                        end=time_interval['end_date_time_utc'])"
   ]
  },
  {
   "cell_type": "code",
   "execution_count": 23,
   "metadata": {
    "collapsed": false
   },
   "outputs": [
    {
     "data": {
      "text/plain": [
       "dict_keys(['site', 'variable', 'values', 'censor_codes', 'methods', 'quality_control_levels', 'sources'])"
      ]
     },
     "execution_count": 23,
     "metadata": {},
     "output_type": "execute_result"
    }
   ],
   "source": [
    "site_tsval.keys()"
   ]
  },
  {
   "cell_type": "code",
   "execution_count": 24,
   "metadata": {},
   "outputs": [],
   "source": [
    "def site_series_values_to_df(series_values, variable_name):\n",
    "    # Create a clean timeseries list of (dt,val) tuples\n",
    "    tsdt_tuplst = [(convert_datetime(valdict['datetime']).replace(tzinfo=pytz.utc), \n",
    "                    float(valdict['value']))\n",
    "                   for valdict in series_values['values']]\n",
    "    \n",
    "    dt, val = zip(*tsdt_tuplst)\n",
    "    ts_df = pd.DataFrame({'time':dt, variable_name:val})\n",
    "    ts_df.set_index('time', inplace=True)\n",
    "    ts_df.sort_index(ascending=True, inplace=True)\n",
    "    return ts_df"
   ]
  },
  {
   "cell_type": "code",
   "execution_count": 25,
   "metadata": {},
   "outputs": [],
   "source": [
    "ts_df = site_series_values_to_df(site_tsval, varcd)"
   ]
  },
  {
   "cell_type": "code",
   "execution_count": 26,
   "metadata": {},
   "outputs": [
    {
     "data": {
      "text/html": [
       "<div>\n",
       "<style scoped>\n",
       "    .dataframe tbody tr th:only-of-type {\n",
       "        vertical-align: middle;\n",
       "    }\n",
       "\n",
       "    .dataframe tbody tr th {\n",
       "        vertical-align: top;\n",
       "    }\n",
       "\n",
       "    .dataframe thead th {\n",
       "        text-align: right;\n",
       "    }\n",
       "</style>\n",
       "<table border=\"1\" class=\"dataframe\">\n",
       "  <thead>\n",
       "    <tr style=\"text-align: right;\">\n",
       "      <th></th>\n",
       "      <th>ORSANCO_HAB:ODO_30</th>\n",
       "    </tr>\n",
       "    <tr>\n",
       "      <th>time</th>\n",
       "      <th></th>\n",
       "    </tr>\n",
       "  </thead>\n",
       "  <tbody>\n",
       "    <tr>\n",
       "      <th>2017-09-05 10:00:00+00:00</th>\n",
       "      <td>5.23</td>\n",
       "    </tr>\n",
       "    <tr>\n",
       "      <th>2017-09-05 10:30:00+00:00</th>\n",
       "      <td>5.27</td>\n",
       "    </tr>\n",
       "    <tr>\n",
       "      <th>2017-09-05 11:00:00+00:00</th>\n",
       "      <td>5.22</td>\n",
       "    </tr>\n",
       "    <tr>\n",
       "      <th>2017-09-05 11:30:00+00:00</th>\n",
       "      <td>5.29</td>\n",
       "    </tr>\n",
       "    <tr>\n",
       "      <th>2017-09-05 12:00:00+00:00</th>\n",
       "      <td>5.40</td>\n",
       "    </tr>\n",
       "  </tbody>\n",
       "</table>\n",
       "</div>"
      ],
      "text/plain": [
       "                           ORSANCO_HAB:ODO_30\n",
       "time                                         \n",
       "2017-09-05 10:00:00+00:00                5.23\n",
       "2017-09-05 10:30:00+00:00                5.27\n",
       "2017-09-05 11:00:00+00:00                5.22\n",
       "2017-09-05 11:30:00+00:00                5.29\n",
       "2017-09-05 12:00:00+00:00                5.40"
      ]
     },
     "execution_count": 26,
     "metadata": {},
     "output_type": "execute_result"
    }
   ],
   "source": [
    "ts_df.tail()"
   ]
  },
  {
   "cell_type": "code",
   "execution_count": 27,
   "metadata": {},
   "outputs": [
    {
     "data": {
      "image/png": "[encoded data removed]",
      "text/plain": [
       "<Figure size 1008x432 with 1 Axes>"
      ]
     },
     "metadata": {
      "needs_background": "light"
     },
     "output_type": "display_data"
    }
   ],
   "source": [
    "fig, ax = plt.subplots(figsize=(14, 6))\n",
    "varlabel = ts_df.columns[0]\n",
    "ts_df[varlabel].plot(style='-', ax=ax)\n",
    "\n",
    "sitevariable = siteinfo['series'][varcd]['variable']\n",
    "ax.set_ylabel(\"{} ({}), {}\".format(sitevariable['name'], varlabel, sitevariable['units']['abbreviation']))\n",
    "ax.set_title(\"{}:{} | {}\".format(networkcd, sitecd, siteinfo['name']));"
   ]
  },
  {
   "cell_type": "code",
   "execution_count": null,
   "metadata": {},
   "outputs": [],
   "source": []
  }
 ],
 "metadata": {
  "kernelspec": {
   "display_name": "Python [conda env:whwtimeseries]",
   "language": "python",
   "name": "conda-env-whwtimeseries-py"
  },
  "language_info": {
   "codemirror_mode": {
    "name": "ipython",
    "version": 3
   },
   "file_extension": ".py",
   "mimetype": "text/x-python",
   "name": "python",
   "nbconvert_exporter": "python",
   "pygments_lexer": "ipython3",
   "version": "3.6.7"
  }
 },
 "nbformat": 4,
 "nbformat_minor": 2
}

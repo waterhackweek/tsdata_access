{
 "cells": [
  {
   "cell_type": "markdown",
   "metadata": {},
   "source": [
    "# Use Case 2 - Part 1: Using ulmo to explore USGS NWIS and CUAHSI HIS Data"
   ]
  },
  {
   "cell_type": "markdown",
   "metadata": {},
   "source": [
    "- [Emilio Mayorga](https://github.com/emiliom), University of Washington\n",
    "- [WaterHackWeek](https://waterhackweek.github.io/) Cyberseminar\n",
    "- 2019-2-7\n",
    "- **Re-ran successfully by Emilio on 2/26/2020 using his `whwtimeseries_cso.yml` conda env file**"
   ]
  },
  {
   "cell_type": "code",
   "execution_count": 1,
   "metadata": {},
   "outputs": [],
   "source": [
    "%matplotlib inline\n",
    "\n",
    "import pytz\n",
    "import requests\n",
    "import matplotlib.pyplot as plt\n",
    "import pandas as pd\n",
    "import folium\n",
    "\n",
    "import ulmo\n",
    "from ulmo.util import convert_datetime"
   ]
  },
  {
   "cell_type": "markdown",
   "metadata": {},
   "source": [
    "# Request and explore NWIS sites in a HUC8 subbasin"
   ]
  },
  {
   "cell_type": "markdown",
   "metadata": {},
   "source": [
    "Upper Little Tennessee HUC8 Subbasin 06010202. See [an interactive map on our GitHub repository.](https://github.com/waterhackweek/tsdata_access/blob/master/UpperLittleTennessee_HUC-8Subbasin_ID06010202.geojson)"
   ]
  },
  {
   "cell_type": "code",
   "execution_count": 2,
   "metadata": {},
   "outputs": [],
   "source": [
    "HUC8code = '06010202'"
   ]
  },
  {
   "cell_type": "markdown",
   "metadata": {},
   "source": [
    "## Issue the `ulmo nwis.get_sites` request, then cleanup and examine the results"
   ]
  },
  {
   "cell_type": "code",
   "execution_count": 3,
   "metadata": {
    "collapsed": false,
    "jupyter": {
     "outputs_hidden": false
    }
   },
   "outputs": [
    {
     "name": "stderr",
     "output_type": "stream",
     "text": [
      "making request for sites: http://waterservices.usgs.gov/nwis/dv/\n",
      "processing data from request: https://waterservices.usgs.gov/nwis/dv/?format=waterml&hucs=06010202\n",
      "making request for sites: http://waterservices.usgs.gov/nwis/iv/\n",
      "processing data from request: https://waterservices.usgs.gov/nwis/iv/?format=waterml&hucs=06010202\n"
     ]
    }
   ],
   "source": [
    "nwis_sites = ulmo.usgs.nwis.get_sites(huc=HUC8code, service=None)"
   ]
  },
  {
   "cell_type": "markdown",
   "metadata": {},
   "source": [
    "What does the response look like?"
   ]
  },
  {
   "cell_type": "code",
   "execution_count": 4,
   "metadata": {
    "collapsed": false,
    "jupyter": {
     "outputs_hidden": false
    }
   },
   "outputs": [
    {
     "data": {
      "text/plain": [
       "(dict, 21)"
      ]
     },
     "execution_count": 4,
     "metadata": {},
     "output_type": "execute_result"
    }
   ],
   "source": [
    "type(nwis_sites), len(nwis_sites)"
   ]
  },
  {
   "cell_type": "code",
   "execution_count": 5,
   "metadata": {
    "collapsed": false,
    "jupyter": {
     "outputs_hidden": false
    }
   },
   "outputs": [
    {
     "data": {
      "text/plain": [
       "dict_keys(['03500000', '0350011450', '03500240', '03500500', '0350056050', '03501000', '03501500', '03501975', '03502500', '03503000', '03503500', '03504000', '03505500', '03505550', '03506500', '03507000', '03513500', '03514000', '350413083130045', '350557083325845', '351205083213545'])"
      ]
     },
     "execution_count": 5,
     "metadata": {},
     "output_type": "execute_result"
    }
   ],
   "source": [
    "nwis_sites.keys()"
   ]
  },
  {
   "cell_type": "markdown",
   "metadata": {},
   "source": [
    "It's a Python dictionary of sites. Let's examine one of the sites."
   ]
  },
  {
   "cell_type": "code",
   "execution_count": 6,
   "metadata": {},
   "outputs": [],
   "source": [
    "site_code = '03501500'"
   ]
  },
  {
   "cell_type": "code",
   "execution_count": 7,
   "metadata": {
    "collapsed": false,
    "jupyter": {
     "outputs_hidden": false
    }
   },
   "outputs": [
    {
     "data": {
      "text/plain": [
       "{'code': '03501500',\n",
       " 'name': 'LITTLE TENNESSEE R AT FRANKLIN, NC',\n",
       " 'network': 'NWIS',\n",
       " 'agency': 'USGS',\n",
       " 'location': {'latitude': '35.18592846',\n",
       "  'longitude': '-83.3712647',\n",
       "  'srs': 'EPSG:4326'},\n",
       " 'timezone_info': {'uses_dst': True,\n",
       "  'dst_tz': {'abbreviation': 'EDT', 'offset': '-04:00'},\n",
       "  'default_tz': {'abbreviation': 'EST', 'offset': '-05:00'}},\n",
       " 'county': '37113',\n",
       " 'huc': '06010202',\n",
       " 'site_type': 'ST',\n",
       " 'state_code': '37'}"
      ]
     },
     "execution_count": 7,
     "metadata": {},
     "output_type": "execute_result"
    }
   ],
   "source": [
    "nwis_sites[site_code]"
   ]
  },
  {
   "cell_type": "markdown",
   "metadata": {},
   "source": [
    "One thing it doesn't tell us is what parameters are measured at the site. Too bad."
   ]
  },
  {
   "cell_type": "code",
   "execution_count": 8,
   "metadata": {},
   "outputs": [],
   "source": [
    "# pull out lat & lon from the nested dictionary\n",
    "for k, v in nwis_sites.items():\n",
    "    v['longitude'] = v['location']['longitude']\n",
    "    v['latitude'] = v['location']['latitude']"
   ]
  },
  {
   "cell_type": "code",
   "execution_count": 9,
   "metadata": {},
   "outputs": [
    {
     "data": {
      "text/html": [
       "<div>\n",
       "<style scoped>\n",
       "    .dataframe tbody tr th:only-of-type {\n",
       "        vertical-align: middle;\n",
       "    }\n",
       "\n",
       "    .dataframe tbody tr th {\n",
       "        vertical-align: top;\n",
       "    }\n",
       "\n",
       "    .dataframe thead th {\n",
       "        text-align: right;\n",
       "    }\n",
       "</style>\n",
       "<table border=\"1\" class=\"dataframe\">\n",
       "  <thead>\n",
       "    <tr style=\"text-align: right;\">\n",
       "      <th></th>\n",
       "      <th>03500000</th>\n",
       "      <th>0350011450</th>\n",
       "      <th>03500240</th>\n",
       "      <th>03500500</th>\n",
       "      <th>0350056050</th>\n",
       "      <th>03501000</th>\n",
       "      <th>03501500</th>\n",
       "      <th>03501975</th>\n",
       "      <th>03502500</th>\n",
       "      <th>03503000</th>\n",
       "      <th>...</th>\n",
       "      <th>03504000</th>\n",
       "      <th>03505500</th>\n",
       "      <th>03505550</th>\n",
       "      <th>03506500</th>\n",
       "      <th>03507000</th>\n",
       "      <th>03513500</th>\n",
       "      <th>03514000</th>\n",
       "      <th>350413083130045</th>\n",
       "      <th>350557083325845</th>\n",
       "      <th>351205083213545</th>\n",
       "    </tr>\n",
       "  </thead>\n",
       "  <tbody>\n",
       "    <tr>\n",
       "      <th>agency</th>\n",
       "      <td>USGS</td>\n",
       "      <td>USGS</td>\n",
       "      <td>USGS</td>\n",
       "      <td>USGS</td>\n",
       "      <td>USGS</td>\n",
       "      <td>USGS</td>\n",
       "      <td>USGS</td>\n",
       "      <td>USGS</td>\n",
       "      <td>USGS</td>\n",
       "      <td>USGS</td>\n",
       "      <td>...</td>\n",
       "      <td>USGS</td>\n",
       "      <td>USGS</td>\n",
       "      <td>USGS</td>\n",
       "      <td>USGS</td>\n",
       "      <td>USGS</td>\n",
       "      <td>USGS</td>\n",
       "      <td>USGS</td>\n",
       "      <td>USGS</td>\n",
       "      <td>USGS</td>\n",
       "      <td>USGS</td>\n",
       "    </tr>\n",
       "    <tr>\n",
       "      <th>code</th>\n",
       "      <td>03500000</td>\n",
       "      <td>0350011450</td>\n",
       "      <td>03500240</td>\n",
       "      <td>03500500</td>\n",
       "      <td>0350056050</td>\n",
       "      <td>03501000</td>\n",
       "      <td>03501500</td>\n",
       "      <td>03501975</td>\n",
       "      <td>03502500</td>\n",
       "      <td>03503000</td>\n",
       "      <td>...</td>\n",
       "      <td>03504000</td>\n",
       "      <td>03505500</td>\n",
       "      <td>03505550</td>\n",
       "      <td>03506500</td>\n",
       "      <td>03507000</td>\n",
       "      <td>03513500</td>\n",
       "      <td>03514000</td>\n",
       "      <td>350413083130045</td>\n",
       "      <td>350557083325845</td>\n",
       "      <td>351205083213545</td>\n",
       "    </tr>\n",
       "    <tr>\n",
       "      <th>county</th>\n",
       "      <td>37113</td>\n",
       "      <td>37113</td>\n",
       "      <td>37113</td>\n",
       "      <td>37113</td>\n",
       "      <td>37113</td>\n",
       "      <td>37113</td>\n",
       "      <td>37113</td>\n",
       "      <td>37113</td>\n",
       "      <td>37113</td>\n",
       "      <td>37173</td>\n",
       "      <td>...</td>\n",
       "      <td>37113</td>\n",
       "      <td>37173</td>\n",
       "      <td>37173</td>\n",
       "      <td>37173</td>\n",
       "      <td>37173</td>\n",
       "      <td>37173</td>\n",
       "      <td>37173</td>\n",
       "      <td>37113</td>\n",
       "      <td>37113</td>\n",
       "      <td>37113</td>\n",
       "    </tr>\n",
       "    <tr>\n",
       "      <th>huc</th>\n",
       "      <td>06010202</td>\n",
       "      <td>06010202</td>\n",
       "      <td>06010202</td>\n",
       "      <td>06010202</td>\n",
       "      <td>06010202</td>\n",
       "      <td>06010202</td>\n",
       "      <td>06010202</td>\n",
       "      <td>06010202</td>\n",
       "      <td>06010202</td>\n",
       "      <td>06010202</td>\n",
       "      <td>...</td>\n",
       "      <td>06010202</td>\n",
       "      <td>06010202</td>\n",
       "      <td>06010202</td>\n",
       "      <td>06010202</td>\n",
       "      <td>06010202</td>\n",
       "      <td>06010202</td>\n",
       "      <td>06010202</td>\n",
       "      <td>06010202</td>\n",
       "      <td>06010202</td>\n",
       "      <td>06010202</td>\n",
       "    </tr>\n",
       "    <tr>\n",
       "      <th>latitude</th>\n",
       "      <td>35.15</td>\n",
       "      <td>35.15776944</td>\n",
       "      <td>35.15888889</td>\n",
       "      <td>35.07064737</td>\n",
       "      <td>35.0761111</td>\n",
       "      <td>35.166484</td>\n",
       "      <td>35.18592846</td>\n",
       "      <td>35.2328611</td>\n",
       "      <td>35.2784285</td>\n",
       "      <td>35.33638889</td>\n",
       "      <td>...</td>\n",
       "      <td>35.1275</td>\n",
       "      <td>35.29870237</td>\n",
       "      <td>35.305</td>\n",
       "      <td>35.37564868</td>\n",
       "      <td>35.4084267</td>\n",
       "      <td>35.48481705</td>\n",
       "      <td>35.4773122</td>\n",
       "      <td>35.07027778</td>\n",
       "      <td>35.09916667</td>\n",
       "      <td>35.2</td>\n",
       "    </tr>\n",
       "  </tbody>\n",
       "</table>\n",
       "<p>5 rows × 21 columns</p>\n",
       "</div>"
      ],
      "text/plain": [
       "          03500000   0350011450     03500240     03500500  0350056050  \\\n",
       "agency        USGS         USGS         USGS         USGS        USGS   \n",
       "code      03500000   0350011450     03500240     03500500  0350056050   \n",
       "county       37113        37113        37113        37113       37113   \n",
       "huc       06010202     06010202     06010202     06010202    06010202   \n",
       "latitude     35.15  35.15776944  35.15888889  35.07064737  35.0761111   \n",
       "\n",
       "           03501000     03501500    03501975    03502500     03503000  ...  \\\n",
       "agency         USGS         USGS        USGS        USGS         USGS  ...   \n",
       "code       03501000     03501500    03501975    03502500     03503000  ...   \n",
       "county        37113        37113       37113       37113        37173  ...   \n",
       "huc        06010202     06010202    06010202    06010202     06010202  ...   \n",
       "latitude  35.166484  35.18592846  35.2328611  35.2784285  35.33638889  ...   \n",
       "\n",
       "          03504000     03505500  03505550     03506500    03507000  \\\n",
       "agency        USGS         USGS      USGS         USGS        USGS   \n",
       "code      03504000     03505500  03505550     03506500    03507000   \n",
       "county       37113        37173     37173        37173       37173   \n",
       "huc       06010202     06010202  06010202     06010202    06010202   \n",
       "latitude   35.1275  35.29870237    35.305  35.37564868  35.4084267   \n",
       "\n",
       "             03513500    03514000  350413083130045  350557083325845  \\\n",
       "agency           USGS        USGS             USGS             USGS   \n",
       "code         03513500    03514000  350413083130045  350557083325845   \n",
       "county          37173       37173            37113            37113   \n",
       "huc          06010202    06010202         06010202         06010202   \n",
       "latitude  35.48481705  35.4773122      35.07027778      35.09916667   \n",
       "\n",
       "          351205083213545  \n",
       "agency               USGS  \n",
       "code      351205083213545  \n",
       "county              37113  \n",
       "huc              06010202  \n",
       "latitude             35.2  \n",
       "\n",
       "[5 rows x 21 columns]"
      ]
     },
     "execution_count": 9,
     "metadata": {},
     "output_type": "execute_result"
    }
   ],
   "source": [
    "nwis_sites_df = pd.DataFrame(nwis_sites)\n",
    "nwis_sites_df.head()"
   ]
  },
  {
   "cell_type": "code",
   "execution_count": 10,
   "metadata": {},
   "outputs": [
    {
     "data": {
      "text/html": [
       "<div>\n",
       "<style scoped>\n",
       "    .dataframe tbody tr th:only-of-type {\n",
       "        vertical-align: middle;\n",
       "    }\n",
       "\n",
       "    .dataframe tbody tr th {\n",
       "        vertical-align: top;\n",
       "    }\n",
       "\n",
       "    .dataframe thead th {\n",
       "        text-align: right;\n",
       "    }\n",
       "</style>\n",
       "<table border=\"1\" class=\"dataframe\">\n",
       "  <thead>\n",
       "    <tr style=\"text-align: right;\">\n",
       "      <th></th>\n",
       "      <th>agency</th>\n",
       "      <th>code</th>\n",
       "      <th>county</th>\n",
       "      <th>huc</th>\n",
       "      <th>latitude</th>\n",
       "      <th>location</th>\n",
       "      <th>longitude</th>\n",
       "      <th>name</th>\n",
       "      <th>network</th>\n",
       "      <th>site_type</th>\n",
       "      <th>state_code</th>\n",
       "      <th>timezone_info</th>\n",
       "    </tr>\n",
       "  </thead>\n",
       "  <tbody>\n",
       "    <tr>\n",
       "      <th>03500000</th>\n",
       "      <td>USGS</td>\n",
       "      <td>03500000</td>\n",
       "      <td>37113</td>\n",
       "      <td>06010202</td>\n",
       "      <td>35.15</td>\n",
       "      <td>{'latitude': '35.15', 'longitude': '-83.379722...</td>\n",
       "      <td>-83.3797222</td>\n",
       "      <td>LITTLE TENNESSEE RIVER NEAR PRENTISS, NC</td>\n",
       "      <td>NWIS</td>\n",
       "      <td>ST</td>\n",
       "      <td>37</td>\n",
       "      <td>{'uses_dst': True, 'dst_tz': {'abbreviation': ...</td>\n",
       "    </tr>\n",
       "    <tr>\n",
       "      <th>0350011450</th>\n",
       "      <td>USGS</td>\n",
       "      <td>0350011450</td>\n",
       "      <td>37113</td>\n",
       "      <td>06010202</td>\n",
       "      <td>35.15776944</td>\n",
       "      <td>{'latitude': '35.15776944', 'longitude': '-83....</td>\n",
       "      <td>-83.4243694</td>\n",
       "      <td>CARTOOGECHAYE CREEK AT SR 1148 NEAR FRANKLIN, NC</td>\n",
       "      <td>NWIS</td>\n",
       "      <td>ST</td>\n",
       "      <td>37</td>\n",
       "      <td>{'uses_dst': True, 'dst_tz': {'abbreviation': ...</td>\n",
       "    </tr>\n",
       "  </tbody>\n",
       "</table>\n",
       "</div>"
      ],
      "text/plain": [
       "           agency        code county       huc     latitude  \\\n",
       "03500000     USGS    03500000  37113  06010202        35.15   \n",
       "0350011450   USGS  0350011450  37113  06010202  35.15776944   \n",
       "\n",
       "                                                     location    longitude  \\\n",
       "03500000    {'latitude': '35.15', 'longitude': '-83.379722...  -83.3797222   \n",
       "0350011450  {'latitude': '35.15776944', 'longitude': '-83....  -83.4243694   \n",
       "\n",
       "                                                        name network  \\\n",
       "03500000            LITTLE TENNESSEE RIVER NEAR PRENTISS, NC    NWIS   \n",
       "0350011450  CARTOOGECHAYE CREEK AT SR 1148 NEAR FRANKLIN, NC    NWIS   \n",
       "\n",
       "           site_type state_code  \\\n",
       "03500000          ST         37   \n",
       "0350011450        ST         37   \n",
       "\n",
       "                                                timezone_info  \n",
       "03500000    {'uses_dst': True, 'dst_tz': {'abbreviation': ...  \n",
       "0350011450  {'uses_dst': True, 'dst_tz': {'abbreviation': ...  "
      ]
     },
     "execution_count": 10,
     "metadata": {},
     "output_type": "execute_result"
    }
   ],
   "source": [
    "# Let's flip (transpose) the dataframe, so each row is a site\n",
    "nwis_sites_df = nwis_sites_df.T\n",
    "nwis_sites_df.head(2)"
   ]
  },
  {
   "cell_type": "code",
   "execution_count": 11,
   "metadata": {},
   "outputs": [
    {
     "data": {
      "text/html": [
       "<div>\n",
       "<style scoped>\n",
       "    .dataframe tbody tr th:only-of-type {\n",
       "        vertical-align: middle;\n",
       "    }\n",
       "\n",
       "    .dataframe tbody tr th {\n",
       "        vertical-align: top;\n",
       "    }\n",
       "\n",
       "    .dataframe thead th {\n",
       "        text-align: right;\n",
       "    }\n",
       "</style>\n",
       "<table border=\"1\" class=\"dataframe\">\n",
       "  <thead>\n",
       "    <tr style=\"text-align: right;\">\n",
       "      <th></th>\n",
       "      <th>agency</th>\n",
       "      <th>code</th>\n",
       "      <th>county</th>\n",
       "      <th>huc</th>\n",
       "      <th>latitude</th>\n",
       "      <th>longitude</th>\n",
       "      <th>name</th>\n",
       "      <th>network</th>\n",
       "      <th>site_type</th>\n",
       "      <th>state_code</th>\n",
       "    </tr>\n",
       "  </thead>\n",
       "  <tbody>\n",
       "    <tr>\n",
       "      <th>03500000</th>\n",
       "      <td>USGS</td>\n",
       "      <td>03500000</td>\n",
       "      <td>37113</td>\n",
       "      <td>06010202</td>\n",
       "      <td>35.150000</td>\n",
       "      <td>-83.379722</td>\n",
       "      <td>LITTLE TENNESSEE RIVER NEAR PRENTISS, NC</td>\n",
       "      <td>NWIS</td>\n",
       "      <td>ST</td>\n",
       "      <td>37</td>\n",
       "    </tr>\n",
       "    <tr>\n",
       "      <th>0350011450</th>\n",
       "      <td>USGS</td>\n",
       "      <td>0350011450</td>\n",
       "      <td>37113</td>\n",
       "      <td>06010202</td>\n",
       "      <td>35.157769</td>\n",
       "      <td>-83.424369</td>\n",
       "      <td>CARTOOGECHAYE CREEK AT SR 1148 NEAR FRANKLIN, NC</td>\n",
       "      <td>NWIS</td>\n",
       "      <td>ST</td>\n",
       "      <td>37</td>\n",
       "    </tr>\n",
       "  </tbody>\n",
       "</table>\n",
       "</div>"
      ],
      "text/plain": [
       "           agency        code county       huc   latitude  longitude  \\\n",
       "03500000     USGS    03500000  37113  06010202  35.150000 -83.379722   \n",
       "0350011450   USGS  0350011450  37113  06010202  35.157769 -83.424369   \n",
       "\n",
       "                                                        name network  \\\n",
       "03500000            LITTLE TENNESSEE RIVER NEAR PRENTISS, NC    NWIS   \n",
       "0350011450  CARTOOGECHAYE CREEK AT SR 1148 NEAR FRANKLIN, NC    NWIS   \n",
       "\n",
       "           site_type state_code  \n",
       "03500000          ST         37  \n",
       "0350011450        ST         37  "
      ]
     },
     "execution_count": 11,
     "metadata": {},
     "output_type": "execute_result"
    }
   ],
   "source": [
    "# Final cleanups, improvements\n",
    "nwis_sites_df['latitude'] = nwis_sites_df['latitude'].astype(float)\n",
    "nwis_sites_df['longitude'] = nwis_sites_df['longitude'].astype(float)\n",
    "nwis_sites_df.drop(columns=['location', 'timezone_info'], inplace=True)\n",
    "nwis_sites_df.head(2)"
   ]
  },
  {
   "cell_type": "markdown",
   "metadata": {},
   "source": [
    "*What's that \"site_type\"?* Summarize all values"
   ]
  },
  {
   "cell_type": "code",
   "execution_count": 12,
   "metadata": {
    "collapsed": false,
    "jupyter": {
     "outputs_hidden": false
    }
   },
   "outputs": [
    {
     "data": {
      "text/plain": [
       "ST    18\n",
       "AT     3\n",
       "Name: site_type, dtype: int64"
      ]
     },
     "execution_count": 12,
     "metadata": {},
     "output_type": "execute_result"
    }
   ],
   "source": [
    "nwis_sites_df['site_type'].value_counts()"
   ]
  },
  {
   "cell_type": "markdown",
   "metadata": {},
   "source": [
    "Site type codes are defined at http://help.waterdata.usgs.gov/site_tp_cd. For our purposes:\n",
    " - ST: Stream\n",
    " - AT: Atmosphere\n",
    " \n",
    "We could also have issued the `nwis.get_sites` query by passing a `site_type` value or list, like this:\n",
    "```python\n",
    "nwis_sits = ulmo.usgs.nwis.get_sites(huc=HUC8code, site_type=['ST'], service=None)\n",
    "```"
   ]
  },
  {
   "cell_type": "markdown",
   "metadata": {},
   "source": [
    "## Let's map the sites on an interactive map, with Folium\n",
    "Colored by site type."
   ]
  },
  {
   "cell_type": "code",
   "execution_count": 13,
   "metadata": {},
   "outputs": [
    {
     "data": {
      "text/html": [
       "<div style=\"width:100%;\"><div style=\"position:relative;width:100%;height:0;padding-bottom:60%;\"><iframe src=\"data:text/html;charset=utf-8;base64,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\" style=\"position:absolute;width:100%;height:100%;left:0;top:0;border:none !important;\" allowfullscreen webkitallowfullscreen mozallowfullscreen></iframe></div></div>"
      ],
      "text/plain": [
       "<folium.folium.Map at 0x7fe4a0389ef0>"
      ]
     },
     "execution_count": 13,
     "metadata": {},
     "output_type": "execute_result"
    }
   ],
   "source": [
    "m = folium.Map(tiles='Stamen terrain')\n",
    "\n",
    "for idx, row in nwis_sites_df.iterrows():\n",
    "    folium.Marker(location=[row['latitude'], row['longitude']], \n",
    "                  icon=folium.Icon(color='blue' if row['site_type'] == 'ST' else 'gray'),\n",
    "                  popup=\"<b>{0}</b> {1}. Site type: {2}. {3}\".format(\n",
    "                      row['code'], row['name'], row['site_type'], row['network'])\n",
    "                 ).add_to(m)\n",
    "    \n",
    "# Set the map extent (bounds) to the extent of the sites\n",
    "m.fit_bounds(m.get_bounds())\n",
    "\n",
    "m"
   ]
  },
  {
   "cell_type": "markdown",
   "metadata": {},
   "source": [
    "The previous use case notebook from Yifan illustrated how to pull the time series data from nwis using ulmo, by specifying the site code and parameter code."
   ]
  },
  {
   "cell_type": "markdown",
   "metadata": {},
   "source": [
    "# How does this NWIS view compare to what we can find on that HUC8 using the **ModelMyWatershed App?**\n",
    "Let's go there and do some querying and browsing. https://modelmywatershed.org. We can navigate to the specific HUC8, or upload a GeoJSON spatial file for the HUC8, generated in advance.\n",
    "\n",
    "Also, I wonder what data are available near the **Coweeta** LTER station ..."
   ]
  },
  {
   "cell_type": "markdown",
   "metadata": {},
   "source": [
    "# Use `ulmo.cuahsi.wof` to pull time series data from a nearby site on CUAHSI HIS\n",
    "\n",
    "For examples of CUAHSI HIS catalog \"spatial querying\" (based on a bounding box) analogous to the NWIS spatial querying we've presented, go to [this CUAHSI resource on HydroShare](https://www.hydroshare.org/resource/c184323fc95c4c3e85c663f519b47084/). It includes a Jupyter notebook and a presentation on the CUAHI HIS Central API."
   ]
  },
  {
   "cell_type": "markdown",
   "metadata": {},
   "source": [
    "## Explore relevant sites on **HydroClient**\n",
    "\n",
    "I want to find a site \"nearby\", even if it's not in that HUC8, that meets these criteria:\n",
    "- Has dissolved oxygen\n",
    "- Is from a source other than the big federal agencies\n",
    "\n",
    "To do this, let's go to HydroClient. http://data.cuahsi.org. There, we can also visualize the time series using the HydroShare TimeSeries Viewer App, or download the data."
   ]
  },
  {
   "cell_type": "markdown",
   "metadata": {},
   "source": [
    "## Back to the code, to pull in the site's time series data\n",
    "I got `networkcd`, `sitecd` and `varcd` from the HydroClient results."
   ]
  },
  {
   "cell_type": "code",
   "execution_count": 14,
   "metadata": {},
   "outputs": [],
   "source": [
    "# http://hiscentral.cuahsi.org/pub_network.aspx?n=5639\n",
    "networkcd = 'ORSANCO_HAB'\n",
    "\n",
    "# The \"WSDL URL\" (CUAHSI WaterOneFlow web service endpoint)\n",
    "wsdlurl = \"http://hydroportal.cuahsi.org/{}/cuahsi_1_1.asmx?WSDL\".format(networkcd)"
   ]
  },
  {
   "cell_type": "code",
   "execution_count": 15,
   "metadata": {},
   "outputs": [],
   "source": [
    "sitecd = 'RCByrd'"
   ]
  },
  {
   "cell_type": "markdown",
   "metadata": {},
   "source": [
    "## But first let's explore site information (metadata, data availability)"
   ]
  },
  {
   "cell_type": "code",
   "execution_count": 16,
   "metadata": {},
   "outputs": [],
   "source": [
    "siteinfo = ulmo.cuahsi.wof.get_site_info(wsdlurl, \"{}:{}\".format(networkcd, sitecd))"
   ]
  },
  {
   "cell_type": "code",
   "execution_count": 17,
   "metadata": {},
   "outputs": [
    {
     "data": {
      "text/plain": [
       "dict_keys(['code', 'name', 'network', 'location', 'series'])"
      ]
     },
     "execution_count": 17,
     "metadata": {},
     "output_type": "execute_result"
    }
   ],
   "source": [
    "siteinfo.keys()"
   ]
  },
  {
   "cell_type": "markdown",
   "metadata": {},
   "source": [
    "The response is in **CUAHSI WaterML 1.1 format**, transformed by `ulmo` from the original XML into a Python dictionary for easier access."
   ]
  },
  {
   "cell_type": "code",
   "execution_count": 18,
   "metadata": {},
   "outputs": [
    {
     "data": {
      "text/plain": [
       "{'code': 'RCByrd',\n",
       " 'name': 'Robert C. Byrd Locks and Dam',\n",
       " 'network': 'ORSANCO_HAB',\n",
       " 'location': {'latitude': '38.685029',\n",
       "  'longitude': '-82.183691',\n",
       "  'srs': 'EPSG:4269'},\n",
       " 'series': {'ORSANCO_HAB:Bat_30': {'variable': {'value_type': 'Field Observation',\n",
       "    'data_type': 'Regular Sampling',\n",
       "    'general_category': 'Water Quality',\n",
       "    'sample_medium': 'Surface water',\n",
       "    'no_data_value': '-9999',\n",
       "    'speciation': 'Not Applicable',\n",
       "    'code': 'Bat_30',\n",
       "    'id': '59',\n",
       "    'name': 'Battery voltage',\n",
       "    'vocabulary': 'ORSANCO_HAB',\n",
       "    'time': {'is_regular': True,\n",
       "     'interval': '30',\n",
       "     'units': {'abbreviation': 'min',\n",
       "      'code': '102',\n",
       "      'name': 'minute',\n",
       "      'type': 'Time'}},\n",
       "    'units': {'abbreviation': 'V',\n",
       "     'code': '168',\n",
       "     'name': 'volts',\n",
       "     'type': 'Potential Difference'}},\n",
       "   '{http://www.cuahsi.org/water_ml/1.1/}method': {'method_id': '81',\n",
       "    'method_description': 'Data was collected in-situ at regular intervals by datasonde'},\n",
       "   '{http://www.cuahsi.org/water_ml/1.1/}source': {'source_id': '53',\n",
       "    'organization': 'Marshall College ',\n",
       "    'source_description': 'Marshall College',\n",
       "    'citation': 'Unknown'},\n",
       "   '{http://www.cuahsi.org/water_ml/1.1/}quality_control_level': {'quality_control_level_id': '-9999',\n",
       "    'quality_control_level_code': '-9999',\n",
       "    'definition': 'Unknown'},\n",
       "   '{http://www.cuahsi.org/water_ml/1.1/}variable_time_interval': {'variable_time_interval_type': 'TimeIntervalType',\n",
       "    'begin_date_time': '2017-07-27T12:00:00',\n",
       "    'end_date_time': '2017-09-05T12:00:00',\n",
       "    'begin_date_time_utc': '2017-07-27T12:00:00',\n",
       "    'end_date_time_utc': '2017-09-05T12:00:00'},\n",
       "   '{http://www.cuahsi.org/water_ml/1.1/}value_count': {'value_count': '1927'}},\n",
       "  'ORSANCO_HAB:Temp_30': {'variable': {'value_type': 'Field Observation',\n",
       "    'data_type': 'Regular Sampling',\n",
       "    'general_category': 'Water Quality',\n",
       "    'sample_medium': 'Surface water',\n",
       "    'no_data_value': '-9999',\n",
       "    'speciation': 'Not Applicable',\n",
       "    'code': 'Temp_30',\n",
       "    'id': '60',\n",
       "    'name': 'Temperature, sensor',\n",
       "    'vocabulary': 'ORSANCO_HAB',\n",
       "    'time': {'is_regular': True,\n",
       "     'interval': '30',\n",
       "     'units': {'abbreviation': 'min',\n",
       "      'code': '102',\n",
       "      'name': 'minute',\n",
       "      'type': 'Time'}},\n",
       "    'units': {'abbreviation': 'degC',\n",
       "     'code': '96',\n",
       "     'name': 'degree celsius',\n",
       "     'type': 'Temperature'}},\n",
       "   '{http://www.cuahsi.org/water_ml/1.1/}method': {'method_id': '81',\n",
       "    'method_description': 'Data was collected in-situ at regular intervals by datasonde'},\n",
       "   '{http://www.cuahsi.org/water_ml/1.1/}source': {'source_id': '53',\n",
       "    'organization': 'Marshall College ',\n",
       "    'source_description': 'Marshall College',\n",
       "    'citation': 'Unknown'},\n",
       "   '{http://www.cuahsi.org/water_ml/1.1/}quality_control_level': {'quality_control_level_id': '-9999',\n",
       "    'quality_control_level_code': '-9999',\n",
       "    'definition': 'Unknown'},\n",
       "   '{http://www.cuahsi.org/water_ml/1.1/}variable_time_interval': {'variable_time_interval_type': 'TimeIntervalType',\n",
       "    'begin_date_time': '2017-07-27T12:00:00',\n",
       "    'end_date_time': '2017-09-05T12:00:00',\n",
       "    'begin_date_time_utc': '2017-07-27T12:00:00',\n",
       "    'end_date_time_utc': '2017-09-05T12:00:00'},\n",
       "   '{http://www.cuahsi.org/water_ml/1.1/}value_count': {'value_count': '1927'}},\n",
       "  'ORSANCO_HAB:Sp_Cond_30': {'variable': {'value_type': 'Field Observation',\n",
       "    'data_type': 'Regular Sampling',\n",
       "    'general_category': 'Water Quality',\n",
       "    'sample_medium': 'Surface water',\n",
       "    'no_data_value': '-9999',\n",
       "    'speciation': 'Not Applicable',\n",
       "    'code': 'Sp_Cond_30',\n",
       "    'id': '61',\n",
       "    'name': 'Specific Conductance',\n",
       "    'vocabulary': 'ORSANCO_HAB',\n",
       "    'time': {'is_regular': True,\n",
       "     'interval': '30',\n",
       "     'units': {'abbreviation': 'min',\n",
       "      'code': '102',\n",
       "      'name': 'minute',\n",
       "      'type': 'Time'}},\n",
       "    'units': {'abbreviation': 'uS/cm',\n",
       "     'code': '192',\n",
       "     'name': 'microsiemens per centimeter',\n",
       "     'type': 'Electrical Conductivity'}},\n",
       "   '{http://www.cuahsi.org/water_ml/1.1/}method': {'method_id': '81',\n",
       "    'method_description': 'Data was collected in-situ at regular intervals by datasonde'},\n",
       "   '{http://www.cuahsi.org/water_ml/1.1/}source': {'source_id': '53',\n",
       "    'organization': 'Marshall College ',\n",
       "    'source_description': 'Marshall College',\n",
       "    'citation': 'Unknown'},\n",
       "   '{http://www.cuahsi.org/water_ml/1.1/}quality_control_level': {'quality_control_level_id': '-9999',\n",
       "    'quality_control_level_code': '-9999',\n",
       "    'definition': 'Unknown'},\n",
       "   '{http://www.cuahsi.org/water_ml/1.1/}variable_time_interval': {'variable_time_interval_type': 'TimeIntervalType',\n",
       "    'begin_date_time': '2017-07-27T12:00:00',\n",
       "    'end_date_time': '2017-09-05T12:00:00',\n",
       "    'begin_date_time_utc': '2017-07-27T12:00:00',\n",
       "    'end_date_time_utc': '2017-09-05T12:00:00'},\n",
       "   '{http://www.cuahsi.org/water_ml/1.1/}value_count': {'value_count': '1927'}},\n",
       "  'ORSANCO_HAB:pH_30': {'variable': {'value_type': 'Field Observation',\n",
       "    'data_type': 'Regular Sampling',\n",
       "    'general_category': 'Water Quality',\n",
       "    'sample_medium': 'Surface water',\n",
       "    'no_data_value': '-9999',\n",
       "    'speciation': 'Not Applicable',\n",
       "    'code': 'pH_30',\n",
       "    'id': '62',\n",
       "    'name': 'pH',\n",
       "    'vocabulary': 'ORSANCO_HAB',\n",
       "    'time': {'is_regular': True,\n",
       "     'interval': '30',\n",
       "     'units': {'abbreviation': 'min',\n",
       "      'code': '102',\n",
       "      'name': 'minute',\n",
       "      'type': 'Time'}},\n",
       "    'units': {'abbreviation': 'pH',\n",
       "     'code': '309',\n",
       "     'name': 'pH Unit',\n",
       "     'type': 'Dimensionless'}},\n",
       "   '{http://www.cuahsi.org/water_ml/1.1/}method': {'method_id': '81',\n",
       "    'method_description': 'Data was collected in-situ at regular intervals by datasonde'},\n",
       "   '{http://www.cuahsi.org/water_ml/1.1/}source': {'source_id': '53',\n",
       "    'organization': 'Marshall College ',\n",
       "    'source_description': 'Marshall College',\n",
       "    'citation': 'Unknown'},\n",
       "   '{http://www.cuahsi.org/water_ml/1.1/}quality_control_level': {'quality_control_level_id': '-9999',\n",
       "    'quality_control_level_code': '-9999',\n",
       "    'definition': 'Unknown'},\n",
       "   '{http://www.cuahsi.org/water_ml/1.1/}variable_time_interval': {'variable_time_interval_type': 'TimeIntervalType',\n",
       "    'begin_date_time': '2017-07-27T12:00:00',\n",
       "    'end_date_time': '2017-09-05T12:00:00',\n",
       "    'begin_date_time_utc': '2017-07-27T12:00:00',\n",
       "    'end_date_time_utc': '2017-09-05T12:00:00'},\n",
       "   '{http://www.cuahsi.org/water_ml/1.1/}value_count': {'value_count': '1927'}},\n",
       "  'ORSANCO_HAB:Turb_30': {'variable': {'value_type': 'Field Observation',\n",
       "    'data_type': 'Regular Sampling',\n",
       "    'general_category': 'Water Quality',\n",
       "    'sample_medium': 'Surface water',\n",
       "    'no_data_value': '-9999',\n",
       "    'speciation': 'Not Applicable',\n",
       "    'code': 'Turb_30',\n",
       "    'id': '63',\n",
       "    'name': 'Turbidity',\n",
       "    'vocabulary': 'ORSANCO_HAB',\n",
       "    'time': {'is_regular': True,\n",
       "     'interval': '30',\n",
       "     'units': {'abbreviation': 'min',\n",
       "      'code': '102',\n",
       "      'name': 'minute',\n",
       "      'type': 'Time'}},\n",
       "    'units': {'abbreviation': 'NTU',\n",
       "     'code': '221',\n",
       "     'name': 'nephelometric turbidity units',\n",
       "     'type': 'Turbidity'}},\n",
       "   '{http://www.cuahsi.org/water_ml/1.1/}method': {'method_id': '81',\n",
       "    'method_description': 'Data was collected in-situ at regular intervals by datasonde'},\n",
       "   '{http://www.cuahsi.org/water_ml/1.1/}source': {'source_id': '53',\n",
       "    'organization': 'Marshall College ',\n",
       "    'source_description': 'Marshall College',\n",
       "    'citation': 'Unknown'},\n",
       "   '{http://www.cuahsi.org/water_ml/1.1/}quality_control_level': {'quality_control_level_id': '-9999',\n",
       "    'quality_control_level_code': '-9999',\n",
       "    'definition': 'Unknown'},\n",
       "   '{http://www.cuahsi.org/water_ml/1.1/}variable_time_interval': {'variable_time_interval_type': 'TimeIntervalType',\n",
       "    'begin_date_time': '2017-07-27T12:00:00',\n",
       "    'end_date_time': '2017-09-05T12:00:00',\n",
       "    'begin_date_time_utc': '2017-07-27T12:00:00',\n",
       "    'end_date_time_utc': '2017-09-05T12:00:00'},\n",
       "   '{http://www.cuahsi.org/water_ml/1.1/}value_count': {'value_count': '1927'}},\n",
       "  'ORSANCO_HAB:ODOSat_30': {'variable': {'value_type': 'Field Observation',\n",
       "    'data_type': 'Regular Sampling',\n",
       "    'general_category': 'Water Quality',\n",
       "    'sample_medium': 'Surface water',\n",
       "    'no_data_value': '-9999',\n",
       "    'speciation': 'O2',\n",
       "    'code': 'ODOSat_30',\n",
       "    'id': '64',\n",
       "    'name': 'Oxygen, dissolved',\n",
       "    'vocabulary': 'ORSANCO_HAB',\n",
       "    'time': {'is_regular': True,\n",
       "     'interval': '30',\n",
       "     'units': {'abbreviation': 'min',\n",
       "      'code': '102',\n",
       "      'name': 'minute',\n",
       "      'type': 'Time'}},\n",
       "    'units': {'abbreviation': '%',\n",
       "     'code': '1',\n",
       "     'name': 'percent',\n",
       "     'type': 'Dimensionless'}},\n",
       "   '{http://www.cuahsi.org/water_ml/1.1/}method': {'method_id': '81',\n",
       "    'method_description': 'Data was collected in-situ at regular intervals by datasonde'},\n",
       "   '{http://www.cuahsi.org/water_ml/1.1/}source': {'source_id': '53',\n",
       "    'organization': 'Marshall College ',\n",
       "    'source_description': 'Marshall College',\n",
       "    'citation': 'Unknown'},\n",
       "   '{http://www.cuahsi.org/water_ml/1.1/}quality_control_level': {'quality_control_level_id': '-9999',\n",
       "    'quality_control_level_code': '-9999',\n",
       "    'definition': 'Unknown'},\n",
       "   '{http://www.cuahsi.org/water_ml/1.1/}variable_time_interval': {'variable_time_interval_type': 'TimeIntervalType',\n",
       "    'begin_date_time': '2017-07-27T12:00:00',\n",
       "    'end_date_time': '2017-09-05T12:00:00',\n",
       "    'begin_date_time_utc': '2017-07-27T12:00:00',\n",
       "    'end_date_time_utc': '2017-09-05T12:00:00'},\n",
       "   '{http://www.cuahsi.org/water_ml/1.1/}value_count': {'value_count': '1927'}},\n",
       "  'ORSANCO_HAB:ODO_30': {'variable': {'value_type': 'Field Observation',\n",
       "    'data_type': 'Regular Sampling',\n",
       "    'general_category': 'Water Quality',\n",
       "    'sample_medium': 'Surface water',\n",
       "    'no_data_value': '-9999',\n",
       "    'speciation': 'O2',\n",
       "    'code': 'ODO_30',\n",
       "    'id': '65',\n",
       "    'name': 'Oxygen, dissolved',\n",
       "    'vocabulary': 'ORSANCO_HAB',\n",
       "    'time': {'is_regular': True,\n",
       "     'interval': '30',\n",
       "     'units': {'abbreviation': 'min',\n",
       "      'code': '102',\n",
       "      'name': 'minute',\n",
       "      'type': 'Time'}},\n",
       "    'units': {'abbreviation': 'mg/L',\n",
       "     'code': '199',\n",
       "     'name': 'milligrams per liter',\n",
       "     'type': 'Concentration'}},\n",
       "   '{http://www.cuahsi.org/water_ml/1.1/}method': {'method_id': '81',\n",
       "    'method_description': 'Data was collected in-situ at regular intervals by datasonde'},\n",
       "   '{http://www.cuahsi.org/water_ml/1.1/}source': {'source_id': '53',\n",
       "    'organization': 'Marshall College ',\n",
       "    'source_description': 'Marshall College',\n",
       "    'citation': 'Unknown'},\n",
       "   '{http://www.cuahsi.org/water_ml/1.1/}quality_control_level': {'quality_control_level_id': '-9999',\n",
       "    'quality_control_level_code': '-9999',\n",
       "    'definition': 'Unknown'},\n",
       "   '{http://www.cuahsi.org/water_ml/1.1/}variable_time_interval': {'variable_time_interval_type': 'TimeIntervalType',\n",
       "    'begin_date_time': '2017-07-27T12:00:00',\n",
       "    'end_date_time': '2017-09-05T12:00:00',\n",
       "    'begin_date_time_utc': '2017-07-27T12:00:00',\n",
       "    'end_date_time_utc': '2017-09-05T12:00:00'},\n",
       "   '{http://www.cuahsi.org/water_ml/1.1/}value_count': {'value_count': '1927'}},\n",
       "  'ORSANCO_HAB:Chlorophyll_30': {'variable': {'value_type': 'Field Observation',\n",
       "    'data_type': 'Regular Sampling',\n",
       "    'general_category': 'Water Quality',\n",
       "    'sample_medium': 'Surface water',\n",
       "    'no_data_value': '-9999',\n",
       "    'speciation': 'Not Applicable',\n",
       "    'code': 'Chlorophyll_30',\n",
       "    'id': '66',\n",
       "    'name': 'Chlorophyll (a+b+c)',\n",
       "    'vocabulary': 'ORSANCO_HAB',\n",
       "    'time': {'is_regular': True,\n",
       "     'interval': '30',\n",
       "     'units': {'abbreviation': 'min',\n",
       "      'code': '102',\n",
       "      'name': 'minute',\n",
       "      'type': 'Time'}},\n",
       "    'units': {'abbreviation': 'ug/L',\n",
       "     'code': '204',\n",
       "     'name': 'micrograms per liter',\n",
       "     'type': 'Concentration'}},\n",
       "   '{http://www.cuahsi.org/water_ml/1.1/}method': {'method_id': '81',\n",
       "    'method_description': 'Data was collected in-situ at regular intervals by datasonde'},\n",
       "   '{http://www.cuahsi.org/water_ml/1.1/}source': {'source_id': '53',\n",
       "    'organization': 'Marshall College ',\n",
       "    'source_description': 'Marshall College',\n",
       "    'citation': 'Unknown'},\n",
       "   '{http://www.cuahsi.org/water_ml/1.1/}quality_control_level': {'quality_control_level_id': '-9999',\n",
       "    'quality_control_level_code': '-9999',\n",
       "    'definition': 'Unknown'},\n",
       "   '{http://www.cuahsi.org/water_ml/1.1/}variable_time_interval': {'variable_time_interval_type': 'TimeIntervalType',\n",
       "    'begin_date_time': '2017-07-27T12:00:00',\n",
       "    'end_date_time': '2017-09-05T12:00:00',\n",
       "    'begin_date_time_utc': '2017-07-27T12:00:00',\n",
       "    'end_date_time_utc': '2017-09-05T12:00:00'},\n",
       "   '{http://www.cuahsi.org/water_ml/1.1/}value_count': {'value_count': '1927'}},\n",
       "  'ORSANCO_HAB:Chl_RFU_30': {'variable': {'value_type': 'Field Observation',\n",
       "    'data_type': 'Regular Sampling',\n",
       "    'general_category': 'Water Quality',\n",
       "    'sample_medium': 'Surface water',\n",
       "    'no_data_value': '-9999',\n",
       "    'speciation': 'Cl',\n",
       "    'code': 'Chl_RFU_30',\n",
       "    'id': '67',\n",
       "    'name': 'Chlorine, dissolved',\n",
       "    'vocabulary': 'ORSANCO_HAB',\n",
       "    'time': {'is_regular': True,\n",
       "     'interval': '30',\n",
       "     'units': {'abbreviation': 'min',\n",
       "      'code': '102',\n",
       "      'name': 'minute',\n",
       "      'type': 'Time'}},\n",
       "    'units': {'abbreviation': 'RFU',\n",
       "     'code': '332',\n",
       "     'name': 'relative fluorescence units',\n",
       "     'type': 'Fluorescence'}},\n",
       "   '{http://www.cuahsi.org/water_ml/1.1/}method': {'method_id': '81',\n",
       "    'method_description': 'Data was collected in-situ at regular intervals by datasonde'},\n",
       "   '{http://www.cuahsi.org/water_ml/1.1/}source': {'source_id': '53',\n",
       "    'organization': 'Marshall College ',\n",
       "    'source_description': 'Marshall College',\n",
       "    'citation': 'Unknown'},\n",
       "   '{http://www.cuahsi.org/water_ml/1.1/}quality_control_level': {'quality_control_level_id': '-9999',\n",
       "    'quality_control_level_code': '-9999',\n",
       "    'definition': 'Unknown'},\n",
       "   '{http://www.cuahsi.org/water_ml/1.1/}variable_time_interval': {'variable_time_interval_type': 'TimeIntervalType',\n",
       "    'begin_date_time': '2017-07-27T12:00:00',\n",
       "    'end_date_time': '2017-09-05T12:00:00',\n",
       "    'begin_date_time_utc': '2017-07-27T12:00:00',\n",
       "    'end_date_time_utc': '2017-09-05T12:00:00'},\n",
       "   '{http://www.cuahsi.org/water_ml/1.1/}value_count': {'value_count': '1927'}},\n",
       "  'ORSANCO_HAB:BGA-PC_RAW_30': {'variable': {'value_type': 'Field Observation',\n",
       "    'data_type': 'Regular Sampling',\n",
       "    'general_category': 'Water Quality',\n",
       "    'sample_medium': 'Surface water',\n",
       "    'no_data_value': '-9999',\n",
       "    'speciation': 'Not Applicable',\n",
       "    'code': 'BGA-PC_RAW_30',\n",
       "    'id': '68',\n",
       "    'name': 'Blue-green algae (cyanobacteria), phycocyanin',\n",
       "    'vocabulary': 'ORSANCO_HAB',\n",
       "    'time': {'is_regular': True,\n",
       "     'interval': '30',\n",
       "     'units': {'abbreviation': 'min',\n",
       "      'code': '102',\n",
       "      'name': 'minute',\n",
       "      'type': 'Time'}},\n",
       "    'units': {'abbreviation': '-',\n",
       "     'code': '137',\n",
       "     'name': 'dimensionless',\n",
       "     'type': 'Dimensionless'}},\n",
       "   '{http://www.cuahsi.org/water_ml/1.1/}method': {'method_id': '81',\n",
       "    'method_description': 'Data was collected in-situ at regular intervals by datasonde'},\n",
       "   '{http://www.cuahsi.org/water_ml/1.1/}source': {'source_id': '53',\n",
       "    'organization': 'Marshall College ',\n",
       "    'source_description': 'Marshall College',\n",
       "    'citation': 'Unknown'},\n",
       "   '{http://www.cuahsi.org/water_ml/1.1/}quality_control_level': {'quality_control_level_id': '-9999',\n",
       "    'quality_control_level_code': '-9999',\n",
       "    'definition': 'Unknown'},\n",
       "   '{http://www.cuahsi.org/water_ml/1.1/}variable_time_interval': {'variable_time_interval_type': 'TimeIntervalType',\n",
       "    'begin_date_time': '2017-07-27T12:00:00',\n",
       "    'end_date_time': '2017-09-05T12:00:00',\n",
       "    'begin_date_time_utc': '2017-07-27T12:00:00',\n",
       "    'end_date_time_utc': '2017-09-05T12:00:00'},\n",
       "   '{http://www.cuahsi.org/water_ml/1.1/}value_count': {'value_count': '1927'}},\n",
       "  'ORSANCO_HAB:BGA-PC_30': {'variable': {'value_type': 'Field Observation',\n",
       "    'data_type': 'Regular Sampling',\n",
       "    'general_category': 'Water Quality',\n",
       "    'sample_medium': 'Surface water',\n",
       "    'no_data_value': '-9999',\n",
       "    'speciation': 'Not Applicable',\n",
       "    'code': 'BGA-PC_30',\n",
       "    'id': '69',\n",
       "    'name': 'Blue-green algae (cyanobacteria), phycocyanin',\n",
       "    'vocabulary': 'ORSANCO_HAB',\n",
       "    'time': {'is_regular': True,\n",
       "     'interval': '30',\n",
       "     'units': {'abbreviation': 'min',\n",
       "      'code': '102',\n",
       "      'name': 'minute',\n",
       "      'type': 'Time'}},\n",
       "    'units': {'abbreviation': 'ug/L',\n",
       "     'code': '204',\n",
       "     'name': 'micrograms per liter',\n",
       "     'type': 'Concentration'}},\n",
       "   '{http://www.cuahsi.org/water_ml/1.1/}method': {'method_id': '81',\n",
       "    'method_description': 'Data was collected in-situ at regular intervals by datasonde'},\n",
       "   '{http://www.cuahsi.org/water_ml/1.1/}source': {'source_id': '53',\n",
       "    'organization': 'Marshall College ',\n",
       "    'source_description': 'Marshall College',\n",
       "    'citation': 'Unknown'},\n",
       "   '{http://www.cuahsi.org/water_ml/1.1/}quality_control_level': {'quality_control_level_id': '-9999',\n",
       "    'quality_control_level_code': '-9999',\n",
       "    'definition': 'Unknown'},\n",
       "   '{http://www.cuahsi.org/water_ml/1.1/}variable_time_interval': {'variable_time_interval_type': 'TimeIntervalType',\n",
       "    'begin_date_time': '2017-07-27T12:00:00',\n",
       "    'end_date_time': '2017-09-05T12:00:00',\n",
       "    'begin_date_time_utc': '2017-07-27T12:00:00',\n",
       "    'end_date_time_utc': '2017-09-05T12:00:00'},\n",
       "   '{http://www.cuahsi.org/water_ml/1.1/}value_count': {'value_count': '1927'}},\n",
       "  'ORSANCO_HAB:Depth_30': {'variable': {'value_type': 'Field Observation',\n",
       "    'data_type': 'Regular Sampling',\n",
       "    'general_category': 'Water Quality',\n",
       "    'sample_medium': 'Surface water',\n",
       "    'no_data_value': '-9999',\n",
       "    'speciation': 'Not Applicable',\n",
       "    'code': 'Depth_30',\n",
       "    'id': '70',\n",
       "    'name': 'Water depth',\n",
       "    'vocabulary': 'ORSANCO_HAB',\n",
       "    'time': {'is_regular': True,\n",
       "     'interval': '30',\n",
       "     'units': {'abbreviation': 'min',\n",
       "      'code': '102',\n",
       "      'name': 'minute',\n",
       "      'type': 'Time'}},\n",
       "    'units': {'abbreviation': 'm',\n",
       "     'code': '52',\n",
       "     'name': 'meter',\n",
       "     'type': 'Length'}},\n",
       "   '{http://www.cuahsi.org/water_ml/1.1/}method': {'method_id': '81',\n",
       "    'method_description': 'Data was collected in-situ at regular intervals by datasonde'},\n",
       "   '{http://www.cuahsi.org/water_ml/1.1/}source': {'source_id': '53',\n",
       "    'organization': 'Marshall College ',\n",
       "    'source_description': 'Marshall College',\n",
       "    'citation': 'Unknown'},\n",
       "   '{http://www.cuahsi.org/water_ml/1.1/}quality_control_level': {'quality_control_level_id': '-9999',\n",
       "    'quality_control_level_code': '-9999',\n",
       "    'definition': 'Unknown'},\n",
       "   '{http://www.cuahsi.org/water_ml/1.1/}variable_time_interval': {'variable_time_interval_type': 'TimeIntervalType',\n",
       "    'begin_date_time': '2017-07-27T12:00:00',\n",
       "    'end_date_time': '2017-09-05T12:00:00',\n",
       "    'begin_date_time_utc': '2017-07-27T12:00:00',\n",
       "    'end_date_time_utc': '2017-09-05T12:00:00'},\n",
       "   '{http://www.cuahsi.org/water_ml/1.1/}value_count': {'value_count': '1927'}},\n",
       "  'ORSANCO_HAB:Wiper_Pos_30': {'variable': {'value_type': 'Field Observation',\n",
       "    'data_type': 'Regular Sampling',\n",
       "    'general_category': 'Water Quality',\n",
       "    'sample_medium': 'Surface water',\n",
       "    'no_data_value': '-9999',\n",
       "    'speciation': 'Not Applicable',\n",
       "    'code': 'Wiper_Pos_30',\n",
       "    'id': '71',\n",
       "    'name': 'Position',\n",
       "    'vocabulary': 'ORSANCO_HAB',\n",
       "    'time': {'is_regular': True,\n",
       "     'interval': '30',\n",
       "     'units': {'abbreviation': 'min',\n",
       "      'code': '102',\n",
       "      'name': 'minute',\n",
       "      'type': 'Time'}},\n",
       "    'units': {'abbreviation': '-',\n",
       "     'code': '1379',\n",
       "     'name': 'Boolean',\n",
       "     'type': 'Dimensionless'}},\n",
       "   '{http://www.cuahsi.org/water_ml/1.1/}method': {'method_id': '81',\n",
       "    'method_description': 'Data was collected in-situ at regular intervals by datasonde'},\n",
       "   '{http://www.cuahsi.org/water_ml/1.1/}source': {'source_id': '53',\n",
       "    'organization': 'Marshall College ',\n",
       "    'source_description': 'Marshall College',\n",
       "    'citation': 'Unknown'},\n",
       "   '{http://www.cuahsi.org/water_ml/1.1/}quality_control_level': {'quality_control_level_id': '-9999',\n",
       "    'quality_control_level_code': '-9999',\n",
       "    'definition': 'Unknown'},\n",
       "   '{http://www.cuahsi.org/water_ml/1.1/}variable_time_interval': {'variable_time_interval_type': 'TimeIntervalType',\n",
       "    'begin_date_time': '2017-07-27T12:00:00',\n",
       "    'end_date_time': '2017-09-05T12:00:00',\n",
       "    'begin_date_time_utc': '2017-07-27T12:00:00',\n",
       "    'end_date_time_utc': '2017-09-05T12:00:00'},\n",
       "   '{http://www.cuahsi.org/water_ml/1.1/}value_count': {'value_count': '1927'}},\n",
       "  'ORSANCO_HAB:Cable_Pwr_30': {'variable': {'value_type': 'Field Observation',\n",
       "    'data_type': 'Regular Sampling',\n",
       "    'general_category': 'Water Quality',\n",
       "    'sample_medium': 'Surface water',\n",
       "    'no_data_value': '-9999',\n",
       "    'speciation': 'Not Applicable',\n",
       "    'code': 'Cable_Pwr_30',\n",
       "    'id': '72',\n",
       "    'name': 'Electric Power',\n",
       "    'vocabulary': 'ORSANCO_HAB',\n",
       "    'time': {'is_regular': True,\n",
       "     'interval': '30',\n",
       "     'units': {'abbreviation': 'min',\n",
       "      'code': '102',\n",
       "      'name': 'minute',\n",
       "      'type': 'Time'}},\n",
       "    'units': {'abbreviation': 'V',\n",
       "     'code': '168',\n",
       "     'name': 'volts',\n",
       "     'type': 'Potential Difference'}},\n",
       "   '{http://www.cuahsi.org/water_ml/1.1/}method': {'method_id': '81',\n",
       "    'method_description': 'Data was collected in-situ at regular intervals by datasonde'},\n",
       "   '{http://www.cuahsi.org/water_ml/1.1/}source': {'source_id': '53',\n",
       "    'organization': 'Marshall College ',\n",
       "    'source_description': 'Marshall College',\n",
       "    'citation': 'Unknown'},\n",
       "   '{http://www.cuahsi.org/water_ml/1.1/}quality_control_level': {'quality_control_level_id': '-9999',\n",
       "    'quality_control_level_code': '-9999',\n",
       "    'definition': 'Unknown'},\n",
       "   '{http://www.cuahsi.org/water_ml/1.1/}variable_time_interval': {'variable_time_interval_type': 'TimeIntervalType',\n",
       "    'begin_date_time': '2017-07-27T12:00:00',\n",
       "    'end_date_time': '2017-09-05T12:00:00',\n",
       "    'begin_date_time_utc': '2017-07-27T12:00:00',\n",
       "    'end_date_time_utc': '2017-09-05T12:00:00'},\n",
       "   '{http://www.cuahsi.org/water_ml/1.1/}value_count': {'value_count': '1927'}}}}"
      ]
     },
     "execution_count": 18,
     "metadata": {},
     "output_type": "execute_result"
    }
   ],
   "source": [
    "siteinfo"
   ]
  },
  {
   "cell_type": "markdown",
   "metadata": {},
   "source": [
    "## Request, parse and plot the time series"
   ]
  },
  {
   "cell_type": "code",
   "execution_count": 19,
   "metadata": {},
   "outputs": [],
   "source": [
    "varcd = \"ORSANCO_HAB:ODO_30\""
   ]
  },
  {
   "cell_type": "code",
   "execution_count": 20,
   "metadata": {},
   "outputs": [
    {
     "data": {
      "text/plain": [
       "{'variable': {'value_type': 'Field Observation',\n",
       "  'data_type': 'Regular Sampling',\n",
       "  'general_category': 'Water Quality',\n",
       "  'sample_medium': 'Surface water',\n",
       "  'no_data_value': '-9999',\n",
       "  'speciation': 'O2',\n",
       "  'code': 'ODO_30',\n",
       "  'id': '65',\n",
       "  'name': 'Oxygen, dissolved',\n",
       "  'vocabulary': 'ORSANCO_HAB',\n",
       "  'time': {'is_regular': True,\n",
       "   'interval': '30',\n",
       "   'units': {'abbreviation': 'min',\n",
       "    'code': '102',\n",
       "    'name': 'minute',\n",
       "    'type': 'Time'}},\n",
       "  'units': {'abbreviation': 'mg/L',\n",
       "   'code': '199',\n",
       "   'name': 'milligrams per liter',\n",
       "   'type': 'Concentration'}},\n",
       " '{http://www.cuahsi.org/water_ml/1.1/}method': {'method_id': '81',\n",
       "  'method_description': 'Data was collected in-situ at regular intervals by datasonde'},\n",
       " '{http://www.cuahsi.org/water_ml/1.1/}source': {'source_id': '53',\n",
       "  'organization': 'Marshall College ',\n",
       "  'source_description': 'Marshall College',\n",
       "  'citation': 'Unknown'},\n",
       " '{http://www.cuahsi.org/water_ml/1.1/}quality_control_level': {'quality_control_level_id': '-9999',\n",
       "  'quality_control_level_code': '-9999',\n",
       "  'definition': 'Unknown'},\n",
       " '{http://www.cuahsi.org/water_ml/1.1/}variable_time_interval': {'variable_time_interval_type': 'TimeIntervalType',\n",
       "  'begin_date_time': '2017-07-27T12:00:00',\n",
       "  'end_date_time': '2017-09-05T12:00:00',\n",
       "  'begin_date_time_utc': '2017-07-27T12:00:00',\n",
       "  'end_date_time_utc': '2017-09-05T12:00:00'},\n",
       " '{http://www.cuahsi.org/water_ml/1.1/}value_count': {'value_count': '1927'}}"
      ]
     },
     "execution_count": 20,
     "metadata": {},
     "output_type": "execute_result"
    }
   ],
   "source": [
    "siteinfo['series'][varcd]"
   ]
  },
  {
   "cell_type": "code",
   "execution_count": 21,
   "metadata": {},
   "outputs": [
    {
     "data": {
      "text/plain": [
       "{'variable_time_interval_type': 'TimeIntervalType',\n",
       " 'begin_date_time': '2017-07-27T12:00:00',\n",
       " 'end_date_time': '2017-09-05T12:00:00',\n",
       " 'begin_date_time_utc': '2017-07-27T12:00:00',\n",
       " 'end_date_time_utc': '2017-09-05T12:00:00'}"
      ]
     },
     "execution_count": 21,
     "metadata": {},
     "output_type": "execute_result"
    }
   ],
   "source": [
    "time_interval = siteinfo['series'][varcd]['{http://www.cuahsi.org/water_ml/1.1/}variable_time_interval']\n",
    "time_interval"
   ]
  },
  {
   "cell_type": "code",
   "execution_count": 22,
   "metadata": {
    "collapsed": false,
    "jupyter": {
     "outputs_hidden": false
    }
   },
   "outputs": [],
   "source": [
    "site_tsval = ulmo.cuahsi.wof.get_values(wsdlurl, \"{}:{}\".format(networkcd, sitecd), varcd,\n",
    "                                        start=time_interval['begin_date_time_utc'], \n",
    "                                        end=time_interval['end_date_time_utc'])"
   ]
  },
  {
   "cell_type": "code",
   "execution_count": 23,
   "metadata": {
    "collapsed": false,
    "jupyter": {
     "outputs_hidden": false
    }
   },
   "outputs": [
    {
     "data": {
      "text/plain": [
       "dict_keys(['site', 'variable', 'values', 'censor_codes', 'methods', 'quality_control_levels', 'sources'])"
      ]
     },
     "execution_count": 23,
     "metadata": {},
     "output_type": "execute_result"
    }
   ],
   "source": [
    "site_tsval.keys()"
   ]
  },
  {
   "cell_type": "code",
   "execution_count": 24,
   "metadata": {},
   "outputs": [],
   "source": [
    "def site_series_values_to_df(series_values, variable_name):\n",
    "    # Create a clean timeseries list of (dt,val) tuples\n",
    "    tsdt_tuplst = [(convert_datetime(valdict['datetime']).replace(tzinfo=pytz.utc), \n",
    "                    float(valdict['value']))\n",
    "                   for valdict in series_values['values']]\n",
    "    \n",
    "    dt, val = zip(*tsdt_tuplst)\n",
    "    ts_df = pd.DataFrame({'time':dt, variable_name:val})\n",
    "    ts_df.set_index('time', inplace=True)\n",
    "    ts_df.sort_index(ascending=True, inplace=True)\n",
    "    return ts_df"
   ]
  },
  {
   "cell_type": "code",
   "execution_count": 25,
   "metadata": {},
   "outputs": [],
   "source": [
    "ts_df = site_series_values_to_df(site_tsval, varcd)"
   ]
  },
  {
   "cell_type": "code",
   "execution_count": 26,
   "metadata": {},
   "outputs": [
    {
     "data": {
      "text/html": [
       "<div>\n",
       "<style scoped>\n",
       "    .dataframe tbody tr th:only-of-type {\n",
       "        vertical-align: middle;\n",
       "    }\n",
       "\n",
       "    .dataframe tbody tr th {\n",
       "        vertical-align: top;\n",
       "    }\n",
       "\n",
       "    .dataframe thead th {\n",
       "        text-align: right;\n",
       "    }\n",
       "</style>\n",
       "<table border=\"1\" class=\"dataframe\">\n",
       "  <thead>\n",
       "    <tr style=\"text-align: right;\">\n",
       "      <th></th>\n",
       "      <th>ORSANCO_HAB:ODO_30</th>\n",
       "    </tr>\n",
       "    <tr>\n",
       "      <th>time</th>\n",
       "      <th></th>\n",
       "    </tr>\n",
       "  </thead>\n",
       "  <tbody>\n",
       "    <tr>\n",
       "      <th>2017-09-05 10:00:00+00:00</th>\n",
       "      <td>5.23</td>\n",
       "    </tr>\n",
       "    <tr>\n",
       "      <th>2017-09-05 10:30:00+00:00</th>\n",
       "      <td>5.27</td>\n",
       "    </tr>\n",
       "    <tr>\n",
       "      <th>2017-09-05 11:00:00+00:00</th>\n",
       "      <td>5.22</td>\n",
       "    </tr>\n",
       "    <tr>\n",
       "      <th>2017-09-05 11:30:00+00:00</th>\n",
       "      <td>5.29</td>\n",
       "    </tr>\n",
       "    <tr>\n",
       "      <th>2017-09-05 12:00:00+00:00</th>\n",
       "      <td>5.40</td>\n",
       "    </tr>\n",
       "  </tbody>\n",
       "</table>\n",
       "</div>"
      ],
      "text/plain": [
       "                           ORSANCO_HAB:ODO_30\n",
       "time                                         \n",
       "2017-09-05 10:00:00+00:00                5.23\n",
       "2017-09-05 10:30:00+00:00                5.27\n",
       "2017-09-05 11:00:00+00:00                5.22\n",
       "2017-09-05 11:30:00+00:00                5.29\n",
       "2017-09-05 12:00:00+00:00                5.40"
      ]
     },
     "execution_count": 26,
     "metadata": {},
     "output_type": "execute_result"
    }
   ],
   "source": [
    "ts_df.tail()"
   ]
  },
  {
   "cell_type": "code",
   "execution_count": 27,
   "metadata": {},
   "outputs": [
    {
     "data": {
      "image/png": "[encoded data removed]",
      "text/plain": [
       "<Figure size 1008x432 with 1 Axes>"
      ]
     },
     "metadata": {
      "needs_background": "light"
     },
     "output_type": "display_data"
    }
   ],
   "source": [
    "fig, ax = plt.subplots(figsize=(14, 6))\n",
    "varlabel = ts_df.columns[0]\n",
    "ts_df[varlabel].plot(style='-', ax=ax)\n",
    "\n",
    "sitevariable = siteinfo['series'][varcd]['variable']\n",
    "ax.set_ylabel(\"{} ({}), {}\".format(sitevariable['name'], varlabel, sitevariable['units']['abbreviation']))\n",
    "ax.set_title(\"{}:{} | {}\".format(networkcd, sitecd, siteinfo['name']));"
   ]
  },
  {
   "cell_type": "code",
   "execution_count": null,
   "metadata": {},
   "outputs": [],
   "source": []
  }
 ],
 "metadata": {
  "kernelspec": {
   "display_name": "Python [conda env:whwtimeseries]",
   "language": "python",
   "name": "conda-env-whwtimeseries-py"
  },
  "language_info": {
   "codemirror_mode": {
    "name": "ipython",
    "version": 3
   },
   "file_extension": ".py",
   "mimetype": "text/x-python",
   "name": "python",
   "nbconvert_exporter": "python",
   "pygments_lexer": "ipython3",
   "version": "3.6.7"
  }
 },
 "nbformat": 4,
 "nbformat_minor": 4
}

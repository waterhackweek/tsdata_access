{
 "cells": [
  {
   "cell_type": "markdown",
   "metadata": {
    "slideshow": {
     "slide_type": "slide"
    }
   },
   "source": [
    "# Data Access and Time-series Statistics\n",
    "\n",
    "- **Emilio Mayorga**, University of Washington - APL\n",
    "- **Yifan Cheng**, University of Washington - CEE"
   ]
  },
  {
   "cell_type": "markdown",
   "metadata": {},
   "source": [
    "   "
   ]
  },
  {
   "cell_type": "markdown",
   "metadata": {},
   "source": [
    "[WaterHackWeek](https://waterhackweek.github.io) Cyberseminar.     &nbsp;&nbsp;&nbsp;&nbsp;&nbsp;      February 7, 2019"
   ]
  },
  {
   "cell_type": "markdown",
   "metadata": {
    "slideshow": {
     "slide_type": "slide"
    }
   },
   "source": [
    "## Data types and this seminar\n",
    "\n",
    "- Spatial representation? Point, gridded, etc.\n",
    "- Long time series, near-real-time data, high-frequency sensor data?\n",
    "- USA, International, Global?\n",
    "- Academic research or government monitoring and research?\n",
    "- Atmospheric, surface water, groundwater? Variables of interest?"
   ]
  },
  {
   "cell_type": "markdown",
   "metadata": {
    "slideshow": {
     "slide_type": "subslide"
    }
   },
   "source": [
    "- **Seminar focused on time series data from sites commonly represented as fixed geographical points.** And we'll emphasize surface waters."
   ]
  },
  {
   "cell_type": "markdown",
   "metadata": {
    "slideshow": {
     "slide_type": "slide"
    }
   },
   "source": [
    "## Where do I find the data I need? <u>Google</u>?\n",
    "\n",
    "- **Google Search.**\n",
    "    - Overwhelming. Many irrelevant results.\n",
    "- **Google Earth Engine.** https://earthengine.google.com/\n",
    "    - Fantastic for remote sensing data and processing. Not yet there for site time series, site data\n",
    "- **Google Dataset Search.** https://toolbox.google.com/datasetsearch\n",
    "    - New, promising. Probably a good place to start."
   ]
  },
  {
   "cell_type": "markdown",
   "metadata": {
    "slideshow": {
     "slide_type": "subslide"
    }
   },
   "source": [
    "- No single catalog will meet all your needs for search, discovery, and convenient access to data, equally well, in all domains of water research!"
   ]
  },
  {
   "cell_type": "markdown",
   "metadata": {
    "slideshow": {
     "slide_type": "fragment"
    }
   },
   "source": [
    "- But some systems are good, broad starting points. \n",
    "- Some make it easier to identify, ingest and use the *\"granular\"* data consistently across sources, while some only target the *\"dataset\"* and metadata level.\n",
    "- See this nice (but a bit dated) [**GLEON** page comparing DataONE and CUAHSI HIS-HydroClient](http://gleon.org/data/repositories). Valuable comparison beyond those two systems.\n",
    "- All have pros and cons."
   ]
  },
  {
   "cell_type": "markdown",
   "metadata": {
    "slideshow": {
     "slide_type": "slide"
    }
   },
   "source": [
    "## Catalogs: User Interface vs APIs\n",
    "\n",
    "- Most catalog systems provide both a user interface (UI) for interactive browsing, and an *Application Programming Interface (API)* for remote programmatic access through the web. The UI is typically easier to use, but the API facilitates repeated tasks, large queries, reuse, and reproducibility."
   ]
  },
  {
   "cell_type": "markdown",
   "metadata": {
    "slideshow": {
     "slide_type": "slide"
    }
   },
   "source": [
    "## Data Search Strategies, Considerations\n",
    "\n",
    "- Clarify the type of data your research question requires\n",
    "- Ask your colleagues about sources of relevant data!\n",
    "- Do try Google. But also use specialized (Earth Sciences, hydrology, etc) but still broad catalogs.\n",
    "- Does the catalog make it easier to access data in consistent data formats across data sources? Or is it focused on \"datasets\"?\n",
    "- Go to each individual data provider's web site, or try to find a system or tool that spans multiple data sets?"
   ]
  },
  {
   "cell_type": "markdown",
   "metadata": {
    "slideshow": {
     "slide_type": "subslide"
    }
   },
   "source": [
    "### ... continued\n",
    "\n",
    "- Manual file downloading, or programmatic access (\"web services\"; say, from Python)?\n",
    "- What options does the data provider have? Manual file downloads, custom or standards-based web service API, custom or standards-based data formats?\n",
    "- Are there multi-dataset code packages that can handle the dataset you want? Is the package fairly easy to use, well documented, with plenty of examples, and does it have an active community of users and developers (say, on GitHub)?\n",
    "- Are parameters (\"water temperature\", \"stream discharge\", \"rainfall\", etc) well described? Do different data sources use different parameter names, meanings, and units?"
   ]
  },
  {
   "cell_type": "markdown",
   "metadata": {
    "slideshow": {
     "slide_type": "slide"
    }
   },
   "source": [
    "## Searching for Data: Useful systems/catalogs we'll explore\n",
    "\n",
    "1. **CUAHSI HIS-HydroClient.** https://www.cuahsi.org/data-models. HydroClient, http://data.cuahsi.org, is a web application providing discovery, visualization and download capability for site time series from many different sources accessible through the CUAHSI \"HIS Central\" catalog http://his.cuahsi.org/\n",
    "2. **CUAHSI HydroShare.** https://www.hydroshare.org/search/ (already discussed in previous seminars)\n",
    "3. **USGS NWIS.** National Water Information System - USGS Water Data for the Nation: https://waterdata.usgs.gov/nwis. Water quantity and quality from surface waters and groundwater.\n",
    "4. **Observatories, Field site networks.** [NEON (National Ecological Observatory Network)](https://www.neonscience.org), [LTER](https://lternet.edu/), [CZO](http://criticalzone.org/national/), [GLEON](http://gleon.org/), USDA watersheds.\n",
    "5. **MonitorMyWatershed / ModelMyWatershed web application.** https://modelmywatershed.org. Provides user-friendly search capabilities across 4 catalogs: HydroShare, CUAHSI HIS-HydroClient, CINERGI, and Water Quality Portal; plus integration with HydroShare."
   ]
  },
  {
   "cell_type": "markdown",
   "metadata": {
    "slideshow": {
     "slide_type": "subslide"
    }
   },
   "source": [
    "### ... Other Systems (explore on your own)\n",
    "\n",
    "- [EarthCube Data Discovery Studio (formerly \"CINERGI\")](http://DataDiscoveryStudio.org). Broad \"meta\" catalog that integrates and harmonizes many different catalogs across the Earth Sciences. Operates at the dataset level.\n",
    "- [DataONE](https://search.dataone.org). Broad catalog operating at the dataset level, with a diverse range of \"Earth observational\" data, including water data. US based and strongest for US data, but integrates datasets from other regions.\n",
    "- [PANGEA](https://www.pangaea.de). \"archiving, publishing and distributing georeferenced data from earth system research\". Based in Germany, PANGEA operates at the dataset level and archives both large and small datasets, often via agreements with journals.\n",
    "- [Water Quality Portal](https://www.waterqualitydata.us). \"A cooperative service sponsored by USGS, EPA and the National Water Quality Monitoring Council (NWQMC) that integrates publicly available water quality data from USGS NWIS, the EPA STORET Data Warehouse, and USDA STEWARDS.\"\n",
    "- **NOAA NCDC.** Climate data -- next slide.\n",
    "- US agencies\n",
    "    - Other federal agencies (Army Corps. Eng., DOE, USDA)\n",
    "    - State agencies (and local agencies!)"
   ]
  },
  {
   "cell_type": "markdown",
   "metadata": {
    "slideshow": {
     "slide_type": "slide"
    }
   },
   "source": [
    "## Climate Data\n",
    "\n",
    "- [**NOAA NCDC** Land-based station data (US and Global)](https://www.ncdc.noaa.gov/data-access/land-based-station-data)\n",
    "    - Multiple datasets by a single agency provider\n",
    "    - Multiple access mechanisms (custom REST API; standards-based APIs; etc)\n",
    "    - Access for a subset of datasets via independent, specialized tool: CUAHSI HIS/HydroClient, `ulmo`\n",
    "- [**NASA ORNL Daymet** (US)](https://daymet.ornl.gov)\n",
    "    - 1km x 1km gridded daily data, including query access via lat-lon points\n",
    "    - Multiple access mechanisms\n",
    "    - Access via independent, specialized tools: `ulmo`, [daymetpy](http://khufkens.github.io/daymetpy/)"
   ]
  },
  {
   "cell_type": "markdown",
   "metadata": {
    "slideshow": {
     "slide_type": "subslide"
    }
   },
   "source": [
    "*Brief NCDC drill in online:*\n",
    "- NCDC Land-Based Station Data pages (Datasets, [CDO](https://www.ncdc.noaa.gov/cdo-web/), [web services](https://www.ncdc.noaa.gov/cdo-web/webservices/ncdcwebservices), [CDO REST API](https://www.ncdc.noaa.gov/cdo-web/webservices/v2)): https://www.ncdc.noaa.gov/data-access/land-based-station-data\n",
    "- `ulmo` NCDC [Global Historical Climate Network Daily (GHCN) plugin](https://ulmo.readthedocs.io/en/latest/api.html#module-ulmo.ncdc.ghcn_daily). Also NCDC GSOD, CRIS plugins."
   ]
  },
  {
   "cell_type": "markdown",
   "metadata": {
    "slideshow": {
     "slide_type": "slide"
    }
   },
   "source": [
    "## Python\n",
    "\n",
    "- **Pandas** is the backbone. \"DataFrame\" tabular data structure. Incorporates lots of functionality and core Python tools: read/write, data organization, data exploration, cleaning, and summarizing; Numpy, matplotlib plotting\n",
    "- **GeoPandas.** Geospatially enabled Pandas, incorporating several useful geospatial tools.\n",
    "- Matplotlib plotting.\n",
    "- **ulmo** data access package. https://ulmo.readthedocs.io\n",
    "- Python datetime handling. \n",
    "    - Beware of different Python datetime types: Python standard `datetime` type; Numpy datetime; Pandas `Timestamp`\n",
    "    - Timezone handling; datetime utilities, conversion\n",
    "    - See [this](https://medium.com/jbennetcodes/dealing-with-datetimes-like-a-pro-in-pandas-b80d3d808a7f) and [that](https://medium.com/jbennetcodes/dealing-with-datetimes-like-a-pro-in-python-fb3ac0feb94b) blog posts"
   ]
  },
  {
   "cell_type": "markdown",
   "metadata": {
    "slideshow": {
     "slide_type": "slide"
    }
   },
   "source": [
    "## Data access and ingest. Common approaches, tools\n",
    "\n",
    "- Manual browsing, donwloads, and reading local files (but issues of reproducibility, efficiency, thorougness)\n",
    "- [`requests` Python package](https://stackabuse.com/the-python-requests-module/) (and `wget`, `curl`): generic remote access through the web.\n",
    "- Pandas `read_csv` function. Not just local files, but also remote files.\n",
    "- Custom web APIs (often called \"REST\" APIs) from the data provider (eg, NEON). Often fairly easy to use, but highly variable across systems.\n",
    "- Standards-based resources:\n",
    "    - APIs: OPeNDAP, Open Geospatial Consortium (OGC) Web Services (WFS, SOS, etc), **CUAHSI WaterOneFlow**\n",
    "    - Formats: WaterML (**CUAHSI WaterML 1.x** vs OGC WaterML 2.0), NetCDF (3 \"classic\" vs 4), Metadata standards\n",
    "    - See this [old but still very useful descriptions of CUAHSI \"HIS\" standards](http://his.cuahsi.org/wofws.html)\n",
    "    - Standards enable reusability across multiple data sources, systems\n",
    "- `ulmo`. Water and climate data. Wraps a lot of the underlying complexity into simpler, more user-friendly Python APIs."
   ]
  },
  {
   "cell_type": "markdown",
   "metadata": {
    "slideshow": {
     "slide_type": "subslide"
    }
   },
   "source": [
    "### ... Other Python packages\n",
    "\n",
    "- We won't discuss these, but you can explore them\n",
    "- [`climata`](https://github.com/heigeo/climata)\n",
    "- [`MetPy`](https://github.com/Unidata/MetP)\n",
    "- [`obsio`](https://github.com/jaredwo/obsio)\n",
    "- provider-specific packages, such as `daymetpy`"
   ]
  },
  {
   "cell_type": "markdown",
   "metadata": {
    "slideshow": {
     "slide_type": "slide"
    }
   },
   "source": [
    "## Next: Use cases with Python examples\n",
    "\n",
    "- Southeast US (Yifan's research area)\n",
    "- Surface water temperature, discharge and water quality\n",
    "- Running Python code: [conda](https://geohackweek.github.io/datasharing/01-conda-tutorial/), conda environment, and Jupyter notebooks\n",
    "- All materials available on GitHub repository, https://github.com/waterhackweek/tsdata_access\n",
    "- Use cases\n",
    "    1. [River and reservoir water temperature.](https://nbviewer.jupyter.org/github/waterhackweek/tsdata_access/blob/master/Part1-ulmo_nwis_reservoirtemperature.ipynb) Yifan\n",
    "    2. Search, access and initial look. [Notebook 1](https://nbviewer.jupyter.org/github/waterhackweek/tsdata_access/blob/master/Part2-ulmo_nwis_and_cuahsi.ipynb), and [notebook 2](https://nbviewer.jupyter.org/github/waterhackweek/tsdata_access/blob/master/Part2-NEON_and_Observatories_RESTAPI.ipynb). Emilio"
   ]
  }
 ],
 "metadata": {
  "celltoolbar": "Slideshow",
  "kernelspec": {
   "display_name": "Python 3",
   "language": "python",
   "name": "python3"
  },
  "language_info": {
   "codemirror_mode": {
    "name": "ipython",
    "version": 3
   },
   "file_extension": ".py",
   "mimetype": "text/x-python",
   "name": "python",
   "nbconvert_exporter": "python",
   "pygments_lexer": "ipython3",
   "version": "3.7.2"
  },
  "rise": {
   "start_slideshow_at": "beginning",
   "theme": "default"
  }
 },
 "nbformat": 4,
 "nbformat_minor": 2
}
